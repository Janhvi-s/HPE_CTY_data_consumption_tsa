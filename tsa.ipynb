{
 "cells": [
  {
   "cell_type": "markdown",
   "metadata": {},
   "source": [
    "# Time Series Forecasting to Predict User Data Consumption\n",
    "---\n",
    "\n",
    "In this project, we are going to use different time series forecasting models to predict a user's data consumption. The first part of the project involves simulating the data for different user types. \n",
    "\n",
    "In the second half, we are going to use the simulated data to model a TSF solution that will conform to the user data consumption as specified in the simulated data.\n",
    "\n",
    "## Importing Necessary Modules\n",
    "--- "
   ]
  },
  {
   "cell_type": "code",
   "execution_count": 1,
   "metadata": {},
   "outputs": [],
   "source": [
    "import os\n",
    "import glob\n",
    "import datetime\n",
    "from math import sqrt\n",
    "\n",
    "import numpy as np\n",
    "import pandas as pd\n",
    "import matplotlib.pyplot as plt\n",
    "from sklearn.metrics import mean_squared_error\n",
    "\n",
    "from tensorflow import keras\n",
    "from keras.models import Sequential\n",
    "from keras.layers import Dense\n",
    "\n",
    "%matplotlib inline"
   ]
  },
  {
   "cell_type": "markdown",
   "metadata": {},
   "source": [
    "### Specifying User Types\n",
    "---"
   ]
  },
  {
   "cell_type": "code",
   "execution_count": 58,
   "metadata": {},
   "outputs": [],
   "source": [
    "# classification of users based on amount of data consumed per day\n",
    "FREE_USER = 0  # 0 to 15\n",
    "SMALL_USER = 1  # 16 to 50\n",
    "MID_TIER_USER = 2  # 51 to 100\n",
    "ENTERPRISE_USER = 3  # 100 and above\n",
    "\n",
    "# classification of user type based on real world usage of SaaS platform\n",
    "ECOMMERCE_STORE = 0\n",
    "DATA_SCIENCE_FIRM = 1\n",
    "SOFTWARE_DEVELOPER = 2"
   ]
  },
  {
   "cell_type": "markdown",
   "metadata": {},
   "source": [
    "## Data Simulation \n",
    "---\n",
    "\n",
    "In this section, we are going to work on the data simulation script. \n",
    "The first step is to define some util functions that will help us generate and manipulate data.\n",
    "\n",
    "#### Data Generation Utils\n",
    "--- "
   ]
  },
  {
   "cell_type": "code",
   "execution_count": 94,
   "metadata": {},
   "outputs": [],
   "source": [
    "def generate_date(start_date, periods):\n",
    "    \"\"\"Function to generate dates in a time range.\n",
    "    \n",
    "    Args-\n",
    "        start_date: Starting date in the range \n",
    "        period: Number of instances\n",
    "    \n",
    "    Returns-\n",
    "        date_range: Array of dates in a time range\n",
    "    \"\"\"\n",
    "    date_range = pd.date_range(start=start_date, periods=periods)\n",
    "    return date_range"
   ]
  },
  {
   "cell_type": "code",
   "execution_count": 61,
   "metadata": {},
   "outputs": [
    {
     "data": {
      "text/plain": [
       "DatetimeIndex(['2021-01-01', '2021-01-02', '2021-01-03', '2021-01-04',\n",
       "               '2021-01-05', '2021-01-06', '2021-01-07', '2021-01-08',\n",
       "               '2021-01-09', '2021-01-10',\n",
       "               ...\n",
       "               '2021-12-22', '2021-12-23', '2021-12-24', '2021-12-25',\n",
       "               '2021-12-26', '2021-12-27', '2021-12-28', '2021-12-29',\n",
       "               '2021-12-30', '2021-12-31'],\n",
       "              dtype='datetime64[ns]', length=365, freq='D')"
      ]
     },
     "execution_count": 61,
     "metadata": {},
     "output_type": "execute_result"
    }
   ],
   "source": [
    "date = generate_date(\"2021-01-01\", 365)\n",
    "date"
   ]
  },
  {
   "cell_type": "code",
   "execution_count": 62,
   "metadata": {},
   "outputs": [],
   "source": [
    "def get_weekend_index_arr(date_arr):\n",
    "    \"\"\"Function to get index of weekends (Sat/Sun) in a datetime array.\n",
    "\n",
    "    Args-\n",
    "        date_arr: Datetime array\n",
    "\n",
    "    Returns-\n",
    "        weekend_index_arr: array of indexes which denote weekend in datetime array\n",
    "    \"\"\"\n",
    "    weekend_index_arr = []\n",
    "    for i in range(len(date_arr)):\n",
    "        weekday = date_arr[i].weekday()\n",
    "        if weekday in [5, 6]:\n",
    "            weekend_index_arr.append(i)\n",
    "    return weekend_index_arr        "
   ]
  },
  {
   "cell_type": "code",
   "execution_count": 63,
   "metadata": {},
   "outputs": [
    {
     "name": "stdout",
     "output_type": "stream",
     "text": [
      "[1, 2, 8, 9, 15, 16, 22, 23, 29, 30, 36, 37, 43, 44, 50, 51, 57, 58, 64, 65, 71, 72, 78, 79, 85, 86, 92, 93, 99, 100, 106, 107, 113, 114, 120, 121, 127, 128, 134, 135, 141, 142, 148, 149, 155, 156, 162, 163, 169, 170, 176, 177, 183, 184, 190, 191, 197, 198, 204, 205, 211, 212, 218, 219, 225, 226, 232, 233, 239, 240, 246, 247, 253, 254, 260, 261, 267, 268, 274, 275, 281, 282, 288, 289, 295, 296, 302, 303, 309, 310, 316, 317, 323, 324, 330, 331, 337, 338, 344, 345, 351, 352, 358, 359]\n"
     ]
    }
   ],
   "source": [
    "weekend_index_arr = get_weekend_index_arr(date)\n",
    "print(weekend_index_arr)"
   ]
  },
  {
   "cell_type": "code",
   "execution_count": 64,
   "metadata": {},
   "outputs": [],
   "source": [
    "def reduce_data_consumption_on_weekend(data, weekend_index_arr):\n",
    "    \"\"\"Function to simulate lower data usage on weekends.\n",
    "\n",
    "    Args-\n",
    "        data: Array for data consumption on each day\n",
    "        weekend_index_arr: Array of indexes denoting weekends\n",
    "    \n",
    "    Returns-\n",
    "        data: Modified data array with reduced data on weekends\n",
    "    \"\"\"\n",
    "    for i in weekend_index_arr:\n",
    "        scale = np.random.uniform(0.6, 1)\n",
    "        data[i] = scale * data[i]\n",
    "    return data            "
   ]
  },
  {
   "cell_type": "code",
   "execution_count": 65,
   "metadata": {},
   "outputs": [],
   "source": [
    "def reduce_data_consumption_in_date_range(data, start_date, end_date):\n",
    "    \"\"\"Function to simulate reduced data consumption in a date range\n",
    "\n",
    "    Args-\n",
    "        data: Array denoting data consumption per day over a period of time\n",
    "        start_date: Datetime object denoting start date for low data consumption period\n",
    "        end_date: Datetime object denoting start date for low data consumption period  \n",
    "\n",
    "    Returns-\n",
    "        data: Modified data array\n",
    "    \"\"\"\n",
    "    start_day = start_date.timetuple().tm_yday - 1\n",
    "    end_day = end_date.timetuple().tm_yday - 1\n",
    "    for i in range(start_day, end_day): \n",
    "        scale = np.random.uniform(0.5, 1)\n",
    "        data[i] = scale * data[i]\n",
    "    return data  "
   ]
  },
  {
   "cell_type": "code",
   "execution_count": 66,
   "metadata": {},
   "outputs": [],
   "source": [
    "def increase_data_consumption_in_date_range(data, start_date, end_date):\n",
    "    \"\"\"Function to simulate increased data consumption in a date range\n",
    "\n",
    "    Args-\n",
    "        data: Array denoting data consumption per day over a period of time\n",
    "        start_date: Datetime object denoting start date for high data consumption period\n",
    "        end_date: Datetime object denoting start date for high data consumption period  \n",
    "\n",
    "    Returns-\n",
    "        data: Modified data array\n",
    "    \"\"\"\n",
    "    start_day = start_date.timetuple().tm_yday - 1\n",
    "    end_day = end_date.timetuple().tm_yday - 1\n",
    "    for i in range(start_day, end_day): \n",
    "        scale = np.random.uniform(1, 2)\n",
    "        data[i] = scale * data[i]\n",
    "    return data  "
   ]
  },
  {
   "cell_type": "code",
   "execution_count": 67,
   "metadata": {},
   "outputs": [],
   "source": [
    "def alter_data_consumption_in_date_ranges(data, date_ranges, increase):\n",
    "    \"\"\"Function to modify data consumption in a list of date ranges\n",
    "\n",
    "    Args-\n",
    "        data: Array denoting data consumption over a period of time\n",
    "        data_ranges: List of [start_date, end_date] combination tuple/list\n",
    "        increase: Boolean denoting whether data consumption is to be increased or decreased in the period   \n",
    "\n",
    "    Returns-\n",
    "        data: Modified data array\n",
    "    \"\"\"\n",
    "    for start_date, end_date in date_ranges:\n",
    "        if increase:\n",
    "            data = increase_data_consumption_in_date_range(data, start_date, end_date)\n",
    "        else:\n",
    "            data = reduce_data_consumption_in_date_range(data, start_date, end_date)\n",
    "    return data        "
   ]
  },
  {
   "cell_type": "code",
   "execution_count": 68,
   "metadata": {},
   "outputs": [],
   "source": [
    "def generate_date(date_str):\n",
    "    \"\"\"Function to generate datetime object from date string.\n",
    "    \n",
    "    Args-\n",
    "        date_str: String denoting date in dd/mm/yyyy format\n",
    "\n",
    "    Returns-\n",
    "        date: Datetime object corresponding to date_str \n",
    "    \"\"\"\n",
    "    date = datetime.datetime.strptime(date_str, \"%d/%m/%Y\")\n",
    "    return date "
   ]
  },
  {
   "cell_type": "code",
   "execution_count": 69,
   "metadata": {},
   "outputs": [],
   "source": [
    "# date ranges denoting weak sales period (hence, reduced data consumption)\n",
    "weak_sales_period = [[generate_date(\"21/09/2021\"), generate_date(\"06/10/2021\")],\n",
    "                     [generate_date(\"6/11/2021\"), generate_date(\"15/11/2021\")],\n",
    "                     [generate_date(\"01/01/2021\"), generate_date(\"10/01/2021\")],\n",
    "                     [generate_date(\"01/05/2021\"), generate_date(\"05/05/2021\")]]\n",
    "\n",
    "# date ranges denoting strong sales period (hence, increased data consumption)\n",
    "strong_sales_period = [[generate_date(\"20/01/2021\"), generate_date(\"24/01/2021\")],\n",
    "                       [generate_date(\"01/03/2021\"), generate_date(\"07/03/2021\")],\n",
    "                       [generate_date(\"03/07/2021\"), generate_date(\"08/07/2021\")],\n",
    "                       [generate_date(\"28/10/2021\"), generate_date(\"03/11/2021\")],\n",
    "                       [generate_date(\"20/11/2021\"), generate_date(\"26/11/2021\")],\n",
    "                       [generate_date(\"20/12/2021\"), generate_date(\"25/12/2021\")]]                     "
   ]
  },
  {
   "cell_type": "code",
   "execution_count": 70,
   "metadata": {},
   "outputs": [],
   "source": [
    "def get_user_type(upper_limit):\n",
    "    \"\"\"Function to fetch user type.\n",
    "    Args-\n",
    "        upper_limit: Upper limit of user's data consumption range\n",
    "    Returs-\n",
    "        user_type: Type of user    \n",
    "    \"\"\"\n",
    "    if upper_limit > 100:\n",
    "        return ENTERPRISE_USER\n",
    "    elif 51 <= upper_limit <= 100:\n",
    "        return MID_TIER_USER\n",
    "    elif 16 <= upper_limit <= 50:\n",
    "        return SMALL_USER     \n",
    "    else:\n",
    "        return FREE_USER"
   ]
  },
  {
   "cell_type": "code",
   "execution_count": 71,
   "metadata": {},
   "outputs": [],
   "source": [
    "def generate_data_values(low, high, size):\n",
    "    \"\"\"Function to generate random values in a range.\n",
    "    Args-\n",
    "        low: Lower limit of the range \n",
    "        high: Upper limit of the range\n",
    "        size: Number of instances\n",
    "    Returns-\n",
    "        data: Array of random values in the range\n",
    "        user_identifier = Type of user\n",
    "    \"\"\"\n",
    "    data = np.random.uniform(low=low, high=high, size=size)\n",
    "    data = reduce_data_consumption_on_weekend(data, weekend_index_arr)\n",
    "    user_type = get_user_type(high)\n",
    "    user_identifier = np.ones(size, dtype=np.int8) * user_type\n",
    "    return data, user_identifier"
   ]
  },
  {
   "cell_type": "code",
   "execution_count": 75,
   "metadata": {},
   "outputs": [],
   "source": [
    "# generating data for different users\n",
    "user1, user_type_1 = generate_data_values(120, 128, 365) \n",
    "user2, user_type_2 = generate_data_values(35, 45, 365) \n",
    "user3, user_type_3 = generate_data_values(75, 80, 365) \n",
    "user4, user_type_4 = generate_data_values(20, 25, 365) \n",
    "user5, user_type_5 = generate_data_values(10, 15, 365) \n",
    "user6, user_type_6 = generate_data_values(30, 35, 365) \n",
    "user7, user_type_7 = generate_data_values(50, 60, 365) \n",
    "user8, user_type_8 = generate_data_values(7, 12, 365) \n",
    "user9, user_type_9 = generate_data_values(60, 65, 365) \n",
    "user10, user_type_10 = generate_data_values(150, 155, 365) \n",
    "\n",
    "user11, user_type_11 = generate_data_values(140, 150, 365) \n",
    "user12, user_type_12 = generate_data_values(62, 67, 365) \n",
    "user13, user_type_13 = generate_data_values(33, 39, 365) \n",
    "user14, user_type_14 = generate_data_values(170,180,365) \n",
    "user15, user_type_15 = generate_data_values(6,12,365) \n",
    "user16, user_type_16 = generate_data_values(87,93,365) \n",
    "user17, user_type_17 = generate_data_values(200,210,365) \n",
    "user18, user_type_18 = generate_data_values(40,45,365) \n",
    "user19, user_type_19 = generate_data_values(60,65,365) \n",
    "user20, user_type_20 = generate_data_values(0,2,365) \n",
    "\n",
    "user21, user_type_21 = generate_data_values(30, 40, 365) \n",
    "user22, user_type_22 = generate_data_values(170, 180, 365) \n",
    "user23, user_type_23 = generate_data_values(25, 33, 365) \n",
    "user24, user_type_24 = generate_data_values(50, 60, 365) \n",
    "user25, user_type_25 = generate_data_values(7, 15, 365) \n",
    "user26, user_type_26 = generate_data_values(130, 135, 365) \n",
    "user27, user_type_27 = generate_data_values(40, 50, 365) \n",
    "user28, user_type_28 = generate_data_values(0, 7, 365) \n",
    "user29, user_type_29 = generate_data_values(20, 30, 365) \n",
    "user30, user_type_30 = generate_data_values(70, 80, 365) \n",
    "\n",
    "user31, user_type_31 = generate_data_values(5, 10, 365) \n",
    "user32, user_type_32 = generate_data_values(200, 210, 365) \n",
    "user33, user_type_33 = generate_data_values(65, 70, 365) \n",
    "user34, user_type_34 = generate_data_values(9, 14, 365) \n",
    "user35, user_type_35 = generate_data_values(39, 50, 365) \n",
    "user36, user_type_36 = generate_data_values(70, 75, 365) \n",
    "user37, user_type_37 = generate_data_values(0, 8, 365) \n",
    "user38, user_type_38 = generate_data_values(80, 90, 365) \n",
    "user39, user_type_39 = generate_data_values(250, 255, 365) \n",
    "user40, user_type_40 = generate_data_values(10, 15, 365) \n",
    "\n",
    "user41, user_type_41 = generate_data_values(195, 200, 365) \n",
    "user42, user_type_42 = generate_data_values(55, 65, 365) \n",
    "user43, user_type_43 = generate_data_values(275, 300, 365) \n",
    "user44, user_type_44 = generate_data_values(79, 100, 365) \n",
    "user45, user_type_45 = generate_data_values(20, 30, 365) \n",
    "user46, user_type_46 = generate_data_values(3, 9, 365) \n",
    "user47, user_type_47 = generate_data_values(150, 160, 365) \n",
    "user48, user_type_48 = generate_data_values(35, 45, 365) \n",
    "user49, user_type_49 = generate_data_values(6, 12, 365) \n",
    "user50, user_type_50 = generate_data_values(60, 65, 365)"
   ]
  },
  {
   "cell_type": "code",
   "execution_count": 72,
   "metadata": {},
   "outputs": [],
   "source": [
    "def generate_user_type(value):\n",
    "    \"\"\"Function to generate random values in a range.\n",
    "    Args-\n",
    "        low: Lower limit of the range \n",
    "        high: Upper limit of the range\n",
    "        size: Number of instances\n",
    "    Returns-\n",
    "        data: Array of random values in the range\n",
    "    \"\"\"\n",
    "    \n",
    "    user_type_range = np.random.randint(0,3)\n",
    "    return user_type_range"
   ]
  },
  {
   "cell_type": "markdown",
   "metadata": {},
   "source": [
    "#### Simulated Data Generation\n",
    "---\n",
    "\n",
    "With all the util functions defined, let us now generate the simulated datasets for different user types."
   ]
  },
  {
   "cell_type": "code",
   "execution_count": 73,
   "metadata": {},
   "outputs": [],
   "source": [
    "def generate_dataset(data_range, date_range, user_type, customer_id, dir, customer_type=None, decrease_period=None, increase_period=None):\n",
    "    \"\"\"Function to generate dataset for daily data consumption of a user.\n",
    "    Args-\n",
    "        data_range: Daily data consumption\n",
    "        date_range: Date\n",
    "        user_type: Type of user\n",
    "        customer_id: Customer ID of the user\n",
    "        dir: Path to data storage directory\n",
    "    Returns-\n",
    "        None\n",
    "    \"\"\"\n",
    "    if customer_type == ECOMMERCE_STORE and user_type[0] == ENTERPRISE_USER:\n",
    "        data_range = alter_data_consumption_in_date_ranges(data_range, decrease_period, False)\n",
    "        data_range = alter_data_consumption_in_date_ranges(data_range, increase_period, True)\n",
    "    dataset_df = pd.DataFrame({\"date\": date_range, \"daily_usage\": data_range, \"user_type\": user_type})\n",
    "    path_to_file = os.path.join(dir, customer_id)\n",
    "    dataset_df.to_csv(path_to_file, index=False)"
   ]
  },
  {
   "cell_type": "code",
   "execution_count": 18,
   "metadata": {},
   "outputs": [],
   "source": [
    "# generating dataset for all customers\n",
    "dir_path = r\"D:\\HPE_CTY\\data\"\n",
    "if not os.path.exists(dir_path):\n",
    "    os.mkdir(dir_path)\n",
    "\n",
    "generate_dataset(user1, date, user_type_1, \"cust01.csv\", dir_path, customer_type=ECOMMERCE_STORE, decrease_period=weak_sales_period, increase_period=strong_sales_period)\n",
    "generate_dataset(user2, date, user_type_2, \"cust02.csv\", dir_path)\n",
    "generate_dataset(user3, date, user_type_3, \"cust03.csv\", dir_path)\n",
    "generate_dataset(user4, date, user_type_4, \"cust04.csv\", dir_path)\n",
    "generate_dataset(user5, date, user_type_5, \"cust05.csv\", dir_path)\n",
    "generate_dataset(user6, date, user_type_6, \"cust06.csv\", dir_path)\n",
    "generate_dataset(user7, date, user_type_7, \"cust07.csv\", dir_path)\n",
    "generate_dataset(user8, date, user_type_8, \"cust08.csv\", dir_path)\n",
    "generate_dataset(user9, date, user_type_9, \"cust09.csv\", dir_path)\n",
    "generate_dataset(user10, date, user_type_10, \"cust10.csv\", dir_path, customer_type=ECOMMERCE_STORE, decrease_period=weak_sales_period, increase_period=strong_sales_period)\n",
    "\n",
    "generate_dataset(user11, date, user_type_11, \"cust11.csv\", dir_path)\n",
    "generate_dataset(user12, date, user_type_12, \"cust12.csv\", dir_path)\n",
    "generate_dataset(user13, date, user_type_13, \"cust13.csv\", dir_path)\n",
    "generate_dataset(user14, date, user_type_14, \"cust14.csv\", dir_path, customer_type=ECOMMERCE_STORE, decrease_period=weak_sales_period, increase_period=strong_sales_period)\n",
    "generate_dataset(user15, date, user_type_15, \"cust15.csv\", dir_path)\n",
    "generate_dataset(user16, date, user_type_16, \"cust16.csv\", dir_path)\n",
    "generate_dataset(user17, date, user_type_17, \"cust17.csv\", dir_path, customer_type=ECOMMERCE_STORE, decrease_period=weak_sales_period, increase_period=strong_sales_period)\n",
    "generate_dataset(user18, date, user_type_18, \"cust18.csv\", dir_path)\n",
    "generate_dataset(user19, date, user_type_19, \"cust19.csv\", dir_path)\n",
    "generate_dataset(user20, date, user_type_20, \"cust20.csv\", dir_path)\n",
    "\n",
    "generate_dataset(user21, date, user_type_21, \"cust21.csv\", dir_path)\n",
    "generate_dataset(user22, date, user_type_22, \"cust22.csv\", dir_path, customer_type=ECOMMERCE_STORE, decrease_period=weak_sales_period, increase_period=strong_sales_period)\n",
    "generate_dataset(user23, date, user_type_23, \"cust23.csv\", dir_path)\n",
    "generate_dataset(user24, date, user_type_24, \"cust24.csv\", dir_path)\n",
    "generate_dataset(user25, date, user_type_25, \"cust25.csv\", dir_path)\n",
    "generate_dataset(user26, date, user_type_26, \"cust26.csv\", dir_path)\n",
    "generate_dataset(user27, date, user_type_27, \"cust27.csv\", dir_path)\n",
    "generate_dataset(user28, date, user_type_28, \"cust28.csv\", dir_path)\n",
    "generate_dataset(user29, date, user_type_29, \"cust29.csv\", dir_path)\n",
    "generate_dataset(user30, date, user_type_30, \"cust30.csv\", dir_path)\n",
    "\n",
    "generate_dataset(user31, date, user_type_31, \"cust31.csv\", dir_path)\n",
    "generate_dataset(user32, date, user_type_32, \"cust32.csv\", dir_path)\n",
    "generate_dataset(user33, date, user_type_33, \"cust33.csv\", dir_path)\n",
    "generate_dataset(user34, date, user_type_34, \"cust34.csv\", dir_path)\n",
    "generate_dataset(user35, date, user_type_35, \"cust35.csv\", dir_path)\n",
    "generate_dataset(user36, date, user_type_36, \"cust36.csv\", dir_path)\n",
    "generate_dataset(user37, date, user_type_37, \"cust37.csv\", dir_path)\n",
    "generate_dataset(user38, date, user_type_38, \"cust38.csv\", dir_path)\n",
    "generate_dataset(user39, date, user_type_39, \"cust39.csv\", dir_path, customer_type=ECOMMERCE_STORE, decrease_period=weak_sales_period, increase_period=strong_sales_period)\n",
    "generate_dataset(user40, date, user_type_40, \"cust40.csv\", dir_path)\n",
    "\n",
    "generate_dataset(user41, date, user_type_41, \"cust41.csv\", dir_path, customer_type=ECOMMERCE_STORE, decrease_period=weak_sales_period, increase_period=strong_sales_period)\n",
    "generate_dataset(user42, date, user_type_42, \"cust42.csv\", dir_path)\n",
    "generate_dataset(user43, date, user_type_43, \"cust43.csv\", dir_path)\n",
    "generate_dataset(user44, date, user_type_44, \"cust44.csv\", dir_path, customer_type=ECOMMERCE_STORE, decrease_period=weak_sales_period, increase_period=strong_sales_period)\n",
    "generate_dataset(user45, date, user_type_45, \"cust45.csv\", dir_path)\n",
    "generate_dataset(user46, date, user_type_46, \"cust46.csv\", dir_path)\n",
    "generate_dataset(user47, date, user_type_47, \"cust47.csv\", dir_path, customer_type=ECOMMERCE_STORE, decrease_period=weak_sales_period, increase_period=strong_sales_period)\n",
    "generate_dataset(user48, date, user_type_48, \"cust48.csv\", dir_path)\n",
    "generate_dataset(user49, date, user_type_49, \"cust49.csv\", dir_path)\n",
    "generate_dataset(user50, date, user_type_50, \"cust50.csv\", dir_path)"
   ]
  },
  {
   "cell_type": "markdown",
   "metadata": {},
   "source": [
    "#### Merging All Datasets\n",
    "---\n",
    "\n",
    "Finally let's merge all the datasets into a single CSV file. This is just for experimentation purposes."
   ]
  },
  {
   "cell_type": "code",
   "execution_count": 19,
   "metadata": {},
   "outputs": [
    {
     "data": {
      "text/html": [
       "<div>\n",
       "<style scoped>\n",
       "    .dataframe tbody tr th:only-of-type {\n",
       "        vertical-align: middle;\n",
       "    }\n",
       "\n",
       "    .dataframe tbody tr th {\n",
       "        vertical-align: top;\n",
       "    }\n",
       "\n",
       "    .dataframe thead th {\n",
       "        text-align: right;\n",
       "    }\n",
       "</style>\n",
       "<table border=\"1\" class=\"dataframe\">\n",
       "  <thead>\n",
       "    <tr style=\"text-align: right;\">\n",
       "      <th></th>\n",
       "      <th>date</th>\n",
       "      <th>daily_usage</th>\n",
       "      <th>user_type</th>\n",
       "    </tr>\n",
       "  </thead>\n",
       "  <tbody>\n",
       "    <tr>\n",
       "      <th>0</th>\n",
       "      <td>2021-01-01</td>\n",
       "      <td>101.982124</td>\n",
       "      <td>3</td>\n",
       "    </tr>\n",
       "    <tr>\n",
       "      <th>1</th>\n",
       "      <td>2021-01-02</td>\n",
       "      <td>57.768400</td>\n",
       "      <td>3</td>\n",
       "    </tr>\n",
       "    <tr>\n",
       "      <th>2</th>\n",
       "      <td>2021-01-03</td>\n",
       "      <td>81.935313</td>\n",
       "      <td>3</td>\n",
       "    </tr>\n",
       "    <tr>\n",
       "      <th>3</th>\n",
       "      <td>2021-01-04</td>\n",
       "      <td>103.093748</td>\n",
       "      <td>3</td>\n",
       "    </tr>\n",
       "    <tr>\n",
       "      <th>4</th>\n",
       "      <td>2021-01-05</td>\n",
       "      <td>99.267238</td>\n",
       "      <td>3</td>\n",
       "    </tr>\n",
       "  </tbody>\n",
       "</table>\n",
       "</div>"
      ],
      "text/plain": [
       "         date  daily_usage  user_type\n",
       "0  2021-01-01   101.982124          3\n",
       "1  2021-01-02    57.768400          3\n",
       "2  2021-01-03    81.935313          3\n",
       "3  2021-01-04   103.093748          3\n",
       "4  2021-01-05    99.267238          3"
      ]
     },
     "execution_count": 19,
     "metadata": {},
     "output_type": "execute_result"
    }
   ],
   "source": [
    "# setting the path for joining multiple files\n",
    "files = os.path.join(dir_path, \"cust*.csv\")\n",
    "\n",
    "# list of merged files returned\n",
    "files = glob.glob(files)\n",
    "\n",
    "# joining files with concat and read_csv\n",
    "df = pd.concat(map(pd.read_csv, files), ignore_index=True)\n",
    "\n",
    "# creating the merged directort if not already present\n",
    "merged_save_dir = os.path.join(dir_path, r\"merged\")\n",
    "if not os.path.exists(merged_save_dir):\n",
    "    os.mkdir(merged_save_dir)\n",
    "\n",
    "# saving the csv file\n",
    "df.to_csv(os.path.join(merged_save_dir, r\"merged_data.csv\"), index=False)\n",
    "\n",
    "# printing the first 5 rows of dataframe\n",
    "df.head()"
   ]
  },
  {
   "cell_type": "markdown",
   "metadata": {},
   "source": [
    "## Modeling and Training\n",
    "--- \n",
    "\n",
    "In this section, we are going to model and evaluate different machine learning models on the training data, and thereafter compare their performances. \n",
    "\n",
    "### 1. Multi-Layered Perceptron Model \n",
    "--- \n",
    "The first model that we are going to consider is a multi-layered perceptron model. This is the simplest model class that we can use for a TSF task. \n",
    "\n",
    "#### Defining Utils\n",
    "---\n",
    "Let us begin by defining the various util methods that will be required in training the model. "
   ]
  },
  {
   "cell_type": "code",
   "execution_count": 4,
   "metadata": {},
   "outputs": [],
   "source": [
    "def train_test_split(data, n_test):\n",
    "    \"\"\"Function to split a univariate dataset into train/test sets.\n",
    "    \n",
    "    Args-\n",
    "        data: Data array\n",
    "        n_test: int denoting number of test instances\n",
    "\n",
    "    Returns-\n",
    "        train_data = Training dataset\n",
    "        test_data = Test dataset\n",
    "    \"\"\"\n",
    "    train_data, test_data = data[:-n_test], data[-n_test:]    \n",
    "    return train_data, test_data"
   ]
  },
  {
   "cell_type": "code",
   "execution_count": 21,
   "metadata": {},
   "outputs": [],
   "source": [
    "def convert_series_to_supervised(data, n_in=1, n_out=1):\n",
    "    \"\"\"Function to transform list into supervised learning format. #features(history) and labels\n",
    "    \n",
    "    Args-\n",
    "        data: Data array\n",
    "        n_in: Number of input values       (kitne dino ki history)\n",
    "        n_out: Number of output values\n",
    "    \"\"\"\n",
    "    df = pd.DataFrame(data)\n",
    "    cols = list()\n",
    "    # input sequence (t-n, ... t-1)      \n",
    "    for i in range(n_in, 0, -1):          \n",
    "        cols.append(df.shift(i))         \n",
    "    # forecast sequence (t, t+1, ... t+n)\n",
    "    for i in range(0, n_out):\n",
    "        cols.append(df.shift(-i))\n",
    "    # put it all together\n",
    "    agg = pd.concat(cols, axis=1)\n",
    "    # drop rows with NaN values\n",
    "    agg.dropna(inplace=True)\n",
    "    return agg.values"
   ]
  },
  {
   "cell_type": "code",
   "execution_count": 22,
   "metadata": {},
   "outputs": [],
   "source": [
    "def measure_rmse(actual, predicted):\n",
    "    \"\"\"Function to calculate root mean squared error (RMSE).\n",
    "    \n",
    "    Args-\n",
    "        actual: Actual (ground truth) values\n",
    "        prediction: Inferred (predicted) values\n",
    "\n",
    "    Returns-\n",
    "        RMSE: RMSE score for the predictions.\n",
    "    \"\"\"\n",
    "    return sqrt(mean_squared_error(actual, predicted))"
   ]
  },
  {
   "cell_type": "code",
   "execution_count": 2,
   "metadata": {},
   "outputs": [],
   "source": [
    "def load_model(model_path):\n",
    "    \"\"\"Function to load a model.\n",
    "    \n",
    "    Args-\n",
    "        model_path: String denoting model path\n",
    "    \n",
    "    Returns-\n",
    "        model: Pre-trained model\n",
    "    \"\"\"\n",
    "    model = keras.models.load_model(model_path)\n",
    "    return model\n",
    "\n",
    "\n",
    "def save_model(model, name, model_dir):\n",
    "    \"\"\"Function to save a model.\n",
    "    \n",
    "    Args-\n",
    "        model_path: String denoting path where model is to be saved\n",
    "    \n",
    "    Returns-\n",
    "        None\n",
    "    \"\"\"\n",
    "    # creating dir if not already existing\n",
    "    if not os.path.exists(model_dir):\n",
    "        os.mkdir(model_dir)\n",
    "    # saving model\n",
    "    model.save(os.path.join(model_dir, name))"
   ]
  },
  {
   "cell_type": "code",
   "execution_count": 24,
   "metadata": {},
   "outputs": [],
   "source": [
    "def get_or_create_model(model_path=None, config=None):\n",
    "    \"\"\"Function to get or create\n",
    "    \"\"\"\n",
    "    try:\n",
    "        model = load_model(model_path)\n",
    "    except:\n",
    "        n_input, n_nodes, _, _ = config\n",
    "        model = Sequential()\n",
    "        model.add(Dense(n_nodes, activation='relu', input_dim=n_input))   \n",
    "        model.add(Dense(1))     \n",
    "        model.compile(loss='mse', optimizer='adam') \n",
    "    return model"
   ]
  },
  {
   "cell_type": "code",
   "execution_count": 25,
   "metadata": {},
   "outputs": [],
   "source": [
    "def model_fit(model, train_data, config):\n",
    "    \"\"\"Util function to train a model on training data.\n",
    "    \n",
    "    Args-\n",
    "        train_data: Training data\n",
    "        config: Hyperparam config values array\n",
    "        model: Pre-trained model\n",
    "    Returns-\n",
    "        model: Trained model \n",
    "    \"\"\"\n",
    "    n_input, _, n_epochs, n_batch = config\n",
    "    # prepare data\n",
    "    data = convert_series_to_supervised(train_data, n_in=n_input) \n",
    "    train_x, train_y = data[:, :-1], data[:, -1]\n",
    "\t# fit\n",
    "    model.fit(train_x, train_y, epochs=n_epochs, batch_size=n_batch, verbose=0)\n",
    "    save_model(model, \"MLP\", r\"D:\\HPE_CTY\\pre_trained_models\")\n",
    "    return model"
   ]
  },
  {
   "cell_type": "code",
   "execution_count": 26,
   "metadata": {},
   "outputs": [],
   "source": [
    "def model_predict(model, history, config):\n",
    "    \"\"\"Function to generate forecasts with a pre-trained model.\n",
    "    \n",
    "    Args-\n",
    "        model: Pre-trained model\n",
    "        history: Input array denoting historic data                 #test data\n",
    "        config: Hyperparameter config array                \n",
    "    \"\"\"\n",
    "\t# unpack config\n",
    "    n_input, _, _, _ = config\n",
    "\t# prepare data\n",
    "    x_input = np.array(history[-n_input:]).reshape(1, n_input)\n",
    "\t# forecast\n",
    "    yhat = model.predict(x_input, verbose=0)\n",
    "    return yhat[0]"
   ]
  },
  {
   "cell_type": "code",
   "execution_count": 27,
   "metadata": {},
   "outputs": [],
   "source": [
    "def walk_forward_validation(data, n_test, cfg):\n",
    "    \"\"\"Function to generate walk-forward validation for univariate data.\n",
    "\n",
    "    Args-\n",
    "        data: Data array\n",
    "        n_test: Number of test instances\n",
    "        cfg: Config array\n",
    "\n",
    "    Returns-\n",
    "        error: RMSE error\n",
    "    \"\"\"\n",
    "    predictions = list()\n",
    "\t# split dataset\n",
    "    train_data, test_data = train_test_split(data, n_test)\n",
    "    # get or create model\n",
    "    model = get_or_create_model(r\"D:\\HPE\\pre_trained_models\\MLP\", cfg)\n",
    "\t# fit model\n",
    "    model = model_fit(model, train_data, cfg)\n",
    "\t# seed history with training dataset\n",
    "    history = [x for x in train_data]\n",
    "\t# step over each time-step in the test set\n",
    "    for i in range(len(test_data)):\n",
    "\t\t# fit model and make forecast for history\n",
    "        yhat = model_predict(model, history, cfg)\n",
    "\t\t# store forecast in list of predictions\n",
    "        predictions.append(yhat)\n",
    "\t\t# add actual observation to history for the next loop\n",
    "        history.append(test_data[i])\n",
    "\t# estimate prediction error\n",
    "    error = measure_rmse(test_data, predictions)\n",
    "    print(' > %.3f' % error)\n",
    "    return error"
   ]
  },
  {
   "cell_type": "code",
   "execution_count": 28,
   "metadata": {},
   "outputs": [],
   "source": [
    "def summarize_scores(name, scores):\n",
    "\t\"\"\"Function to summarize model performance.\n",
    "\n",
    "    Args-\n",
    "        name: String denoting name of the model\n",
    "\t\tscores: Array denoting scores over different training cycles\n",
    "\t\"\"\"\n",
    "\tscores_m, score_std = np.mean(scores), np.std(scores)\n",
    "\tprint(f\"{name}: {scores_m} RMSE (+/- {score_std})\")\n",
    "\t# box and whisker plot\n",
    "\tplt.boxplot(scores)\n",
    "\tplt.show()"
   ]
  },
  {
   "cell_type": "markdown",
   "metadata": {},
   "source": [
    "#### Training the Model\n",
    "---"
   ]
  },
  {
   "cell_type": "code",
   "execution_count": 29,
   "metadata": {},
   "outputs": [],
   "source": [
    "def train_model(data_dir, n_test, config):\n",
    "    \"\"\"Function to train the model.\n",
    "    \n",
    "    Args-\n",
    "        data_dir: Directory with individual datasets.\n",
    "        n_test: Number of test instances\n",
    "        config: Cofig directory\n",
    "\n",
    "    Returns-\n",
    "        None\n",
    "    \"\"\"\n",
    "    error_list = list()\n",
    "    for file in os.listdir(data_dir):\n",
    "        try:\n",
    "            df = pd.read_csv(os.path.join(dir_path, file))\n",
    "            data = df.daily_usage.to_numpy()\n",
    "            error = walk_forward_validation(data, n_test, config)\n",
    "            print(error)\n",
    "            error_list.append(error)\n",
    "        except:\n",
    "            continue\n",
    "    summarize_scores(\"MLP\", error_list)"
   ]
  },
  {
   "cell_type": "code",
   "execution_count": 30,
   "metadata": {},
   "outputs": [
    {
     "name": "stdout",
     "output_type": "stream",
     "text": [
      "INFO:tensorflow:Assets written to: D:\\HPE_CTY\\pre_trained_models\\MLP\\assets\n",
      " > 33.361\n",
      "33.361236646297385\n",
      "INFO:tensorflow:Assets written to: D:\\HPE_CTY\\pre_trained_models\\MLP\\assets\n",
      " > 6.011\n",
      "6.011438181275228\n",
      "INFO:tensorflow:Assets written to: D:\\HPE_CTY\\pre_trained_models\\MLP\\assets\n",
      " > 10.231\n",
      "10.230537624660059\n",
      "INFO:tensorflow:Assets written to: D:\\HPE_CTY\\pre_trained_models\\MLP\\assets\n",
      " > 2.173\n",
      "2.173322766799\n",
      "INFO:tensorflow:Assets written to: D:\\HPE_CTY\\pre_trained_models\\MLP\\assets\n",
      " > 2.262\n",
      "2.2619370154863354\n",
      "INFO:tensorflow:Assets written to: D:\\HPE_CTY\\pre_trained_models\\MLP\\assets\n",
      " > 4.840\n",
      "4.840187957601054\n",
      "INFO:tensorflow:Assets written to: D:\\HPE_CTY\\pre_trained_models\\MLP\\assets\n",
      " > 6.439\n",
      "6.439472412158186\n",
      "INFO:tensorflow:Assets written to: D:\\HPE_CTY\\pre_trained_models\\MLP\\assets\n",
      " > 1.903\n",
      "1.903348475198159\n",
      "INFO:tensorflow:Assets written to: D:\\HPE_CTY\\pre_trained_models\\MLP\\assets\n",
      " > 7.439\n",
      "7.438874657778209\n",
      "INFO:tensorflow:Assets written to: D:\\HPE_CTY\\pre_trained_models\\MLP\\assets\n",
      " > 35.741\n",
      "35.7405748448413\n",
      "INFO:tensorflow:Assets written to: D:\\HPE_CTY\\pre_trained_models\\MLP\\assets\n",
      " > 17.364\n",
      "17.36436279933222\n",
      "INFO:tensorflow:Assets written to: D:\\HPE_CTY\\pre_trained_models\\MLP\\assets\n",
      " > 6.463\n",
      "6.463124262918267\n",
      "INFO:tensorflow:Assets written to: D:\\HPE_CTY\\pre_trained_models\\MLP\\assets\n",
      " > 4.690\n",
      "4.69002452831012\n",
      "INFO:tensorflow:Assets written to: D:\\HPE_CTY\\pre_trained_models\\MLP\\assets\n",
      " > 41.497\n",
      "41.49705088924392\n",
      "INFO:tensorflow:Assets written to: D:\\HPE_CTY\\pre_trained_models\\MLP\\assets\n",
      " > 1.998\n",
      "1.9979057760206664\n",
      "INFO:tensorflow:Assets written to: D:\\HPE_CTY\\pre_trained_models\\MLP\\assets\n",
      " > 8.408\n",
      "8.407987471215751\n",
      "INFO:tensorflow:Assets written to: D:\\HPE_CTY\\pre_trained_models\\MLP\\assets\n",
      " > 59.981\n",
      "59.981350691586954\n",
      "INFO:tensorflow:Assets written to: D:\\HPE_CTY\\pre_trained_models\\MLP\\assets\n",
      " > 4.244\n",
      "4.243935558225019\n",
      "INFO:tensorflow:Assets written to: D:\\HPE_CTY\\pre_trained_models\\MLP\\assets\n",
      " > 8.190\n",
      "8.190311967563785\n",
      "INFO:tensorflow:Assets written to: D:\\HPE_CTY\\pre_trained_models\\MLP\\assets\n",
      " > 0.535\n",
      "0.5354527975964758\n",
      "INFO:tensorflow:Assets written to: D:\\HPE_CTY\\pre_trained_models\\MLP\\assets\n",
      " > 4.265\n",
      "4.2649102942059525\n",
      "INFO:tensorflow:Assets written to: D:\\HPE_CTY\\pre_trained_models\\MLP\\assets\n",
      " > 61.698\n",
      "61.6976951219588\n",
      "INFO:tensorflow:Assets written to: D:\\HPE_CTY\\pre_trained_models\\MLP\\assets\n",
      " > 3.095\n",
      "3.0952141008104546\n",
      "INFO:tensorflow:Assets written to: D:\\HPE_CTY\\pre_trained_models\\MLP\\assets\n",
      " > 7.318\n",
      "7.318120475810535\n",
      "INFO:tensorflow:Assets written to: D:\\HPE_CTY\\pre_trained_models\\MLP\\assets\n",
      " > 2.756\n",
      "2.756079166020094\n",
      "INFO:tensorflow:Assets written to: D:\\HPE_CTY\\pre_trained_models\\MLP\\assets\n",
      " > 16.873\n",
      "16.872592496648313\n",
      "INFO:tensorflow:Assets written to: D:\\HPE_CTY\\pre_trained_models\\MLP\\assets\n",
      " > 5.232\n",
      "5.23225060711734\n",
      "INFO:tensorflow:Assets written to: D:\\HPE_CTY\\pre_trained_models\\MLP\\assets\n",
      " > 2.074\n",
      "2.0741587311340632\n",
      "INFO:tensorflow:Assets written to: D:\\HPE_CTY\\pre_trained_models\\MLP\\assets\n",
      " > 4.177\n",
      "4.1770136721113\n",
      "INFO:tensorflow:Assets written to: D:\\HPE_CTY\\pre_trained_models\\MLP\\assets\n",
      " > 11.142\n",
      "11.142022671680582\n",
      "INFO:tensorflow:Assets written to: D:\\HPE_CTY\\pre_trained_models\\MLP\\assets\n",
      " > 1.758\n",
      "1.7584736820213378\n",
      "INFO:tensorflow:Assets written to: D:\\HPE_CTY\\pre_trained_models\\MLP\\assets\n",
      " > 16.312\n",
      "16.311974533699\n",
      "INFO:tensorflow:Assets written to: D:\\HPE_CTY\\pre_trained_models\\MLP\\assets\n",
      " > 6.958\n",
      "6.957859507378054\n",
      "INFO:tensorflow:Assets written to: D:\\HPE_CTY\\pre_trained_models\\MLP\\assets\n",
      " > 2.572\n",
      "2.571803770389468\n",
      "INFO:tensorflow:Assets written to: D:\\HPE_CTY\\pre_trained_models\\MLP\\assets\n",
      " > 6.553\n",
      "6.552792560117439\n",
      "INFO:tensorflow:Assets written to: D:\\HPE_CTY\\pre_trained_models\\MLP\\assets\n",
      " > 7.084\n",
      "7.084077331177508\n",
      "INFO:tensorflow:Assets written to: D:\\HPE_CTY\\pre_trained_models\\MLP\\assets\n",
      " > 2.349\n",
      "2.349146234692316\n",
      "INFO:tensorflow:Assets written to: D:\\HPE_CTY\\pre_trained_models\\MLP\\assets\n",
      " > 8.225\n",
      "8.225362209227878\n",
      "INFO:tensorflow:Assets written to: D:\\HPE_CTY\\pre_trained_models\\MLP\\assets\n",
      " > 69.667\n",
      "69.66724547445621\n",
      "INFO:tensorflow:Assets written to: D:\\HPE_CTY\\pre_trained_models\\MLP\\assets\n",
      " > 1.976\n",
      "1.975752681333025\n",
      "INFO:tensorflow:Assets written to: D:\\HPE_CTY\\pre_trained_models\\MLP\\assets\n",
      " > 73.931\n",
      "73.93057396837688\n",
      "INFO:tensorflow:Assets written to: D:\\HPE_CTY\\pre_trained_models\\MLP\\assets\n",
      " > 9.376\n",
      "9.376348580681052\n",
      "INFO:tensorflow:Assets written to: D:\\HPE_CTY\\pre_trained_models\\MLP\\assets\n",
      " > 29.508\n",
      "29.50760208471632\n",
      "INFO:tensorflow:Assets written to: D:\\HPE_CTY\\pre_trained_models\\MLP\\assets\n",
      " > 11.705\n",
      "11.704791759845941\n",
      "INFO:tensorflow:Assets written to: D:\\HPE_CTY\\pre_trained_models\\MLP\\assets\n",
      " > 4.187\n",
      "4.187447102974181\n",
      "INFO:tensorflow:Assets written to: D:\\HPE_CTY\\pre_trained_models\\MLP\\assets\n",
      " > 1.988\n",
      "1.9875534421796115\n",
      "INFO:tensorflow:Assets written to: D:\\HPE_CTY\\pre_trained_models\\MLP\\assets\n",
      " > 42.189\n",
      "42.18883135013891\n",
      "INFO:tensorflow:Assets written to: D:\\HPE_CTY\\pre_trained_models\\MLP\\assets\n",
      " > 6.062\n",
      "6.061807872099393\n",
      "INFO:tensorflow:Assets written to: D:\\HPE_CTY\\pre_trained_models\\MLP\\assets\n",
      " > 2.111\n",
      "2.1105052024578344\n",
      "INFO:tensorflow:Assets written to: D:\\HPE_CTY\\pre_trained_models\\MLP\\assets\n",
      " > 5.112\n",
      "5.112415940263835\n",
      "INFO:tensorflow:Assets written to: D:\\HPE_CTY\\pre_trained_models\\MLP\\assets\n",
      " > 6.380\n",
      "6.379593661641046\n",
      "MLP: 13.694204972773978 RMSE (+/- 18.32070269326)\n"
     ]
    },
    {
     "data": {
      "image/png": "[encoded data removed]",
      "text/plain": [
       "<Figure size 432x288 with 1 Axes>"
      ]
     },
     "metadata": {
      "needs_background": "light"
     },
     "output_type": "display_data"
    }
   ],
   "source": [
    "config = [7, 32, 50, 50]\n",
    "\n",
    "train_model(dir_path, 90, config)"
   ]
  },
  {
   "cell_type": "markdown",
   "metadata": {},
   "source": [
    "#### Observations\n",
    "---\n",
    "\n",
    "The following are the observations from the RMSE scores post training and testing on different datasets, each denoting a different user type:\n",
    " - The average RMSE is around 14.5.\n",
    " - The highest RMSE is around 89.9, which still denotes that even for the worse test results, the information loss isn't a lot in the MLP model.\n",
    " - The model takes in historic data for 7 days to generate predicted data consumption for the 8th day.\n",
    " - The performance of the model can be further improved with architectural changes and hyperparameter optimization, which hasn't been done here since this is just a proof-of-concept model for univariate data.\n",
    "\n",
    "Finally, let us perform autocorrelation on the merged data. "
   ]
  },
  {
   "cell_type": "code",
   "execution_count": 31,
   "metadata": {},
   "outputs": [
    {
     "data": {
      "image/png": "[encoded data removed]",
      "text/plain": [
       "<Figure size 432x288 with 1 Axes>"
      ]
     },
     "metadata": {
      "needs_background": "light"
     },
     "output_type": "display_data"
    }
   ],
   "source": [
    "from pandas.plotting import autocorrelation_plot\n",
    "\n",
    "df = pd.read_csv('D:\\HPE_CTY\\data\\merged\\merged_data.csv', header=0, parse_dates=[0])\n",
    "autocorrelation_plot(df.daily_usage)\n",
    "plt.show()"
   ]
  },
  {
   "cell_type": "markdown",
   "metadata": {},
   "source": [
    "### 2. ARIMA Model\n",
    "---\n",
    "\n",
    "In this section, we are going to train an ARIMA model for our data and evaluate its performance.\n",
    "\n",
    "For an example, first we are just going to train the ARIMA model for one dataset file and see how it fares."
   ]
  },
  {
   "cell_type": "code",
   "execution_count": 32,
   "metadata": {},
   "outputs": [
    {
     "name": "stdout",
     "output_type": "stream",
     "text": [
      "                               SARIMAX Results                                \n",
      "==============================================================================\n",
      "Dep. Variable:            daily_usage   No. Observations:                  365\n",
      "Model:                 ARIMA(5, 1, 0)   Log Likelihood               -1656.515\n",
      "Date:                Tue, 12 Jul 2022   AIC                           3325.030\n",
      "Time:                        15:24:53   BIC                           3348.413\n",
      "Sample:                    01-01-2021   HQIC                          3334.324\n",
      "                         - 12-31-2021                                         \n",
      "Covariance Type:                  opg                                         \n",
      "==============================================================================\n",
      "                 coef    std err          z      P>|z|      [0.025      0.975]\n",
      "------------------------------------------------------------------------------\n",
      "ar.L1         -0.3355      0.040     -8.431      0.000      -0.414      -0.258\n",
      "ar.L2         -0.3675      0.041     -9.025      0.000      -0.447      -0.288\n",
      "ar.L3         -0.1775      0.046     -3.849      0.000      -0.268      -0.087\n",
      "ar.L4         -0.2977      0.049     -6.120      0.000      -0.393      -0.202\n",
      "ar.L5         -0.2309      0.050     -4.602      0.000      -0.329      -0.133\n",
      "sigma2       524.2357     26.820     19.546      0.000     471.669     576.802\n",
      "===================================================================================\n",
      "Ljung-Box (L1) (Q):                   1.34   Jarque-Bera (JB):                95.48\n",
      "Prob(Q):                              0.25   Prob(JB):                         0.00\n",
      "Heteroskedasticity (H):               1.59   Skew:                            -0.03\n",
      "Prob(H) (two-sided):                  0.01   Kurtosis:                         5.51\n",
      "===================================================================================\n",
      "\n",
      "Warnings:\n",
      "[1] Covariance matrix calculated using the outer product of gradients (complex-step).\n"
     ]
    },
    {
     "data": {
      "image/png": "[encoded data removed]",
      "text/plain": [
       "<Figure size 432x288 with 1 Axes>"
      ]
     },
     "metadata": {
      "needs_background": "light"
     },
     "output_type": "display_data"
    },
    {
     "data": {
      "image/png": "[encoded data removed]",
      "text/plain": [
       "<Figure size 432x288 with 1 Axes>"
      ]
     },
     "metadata": {
      "needs_background": "light"
     },
     "output_type": "display_data"
    },
    {
     "name": "stdout",
     "output_type": "stream",
     "text": [
      "                0\n",
      "count  365.000000\n",
      "mean     0.451405\n",
      "std     23.535921\n",
      "min    -83.672159\n",
      "25%     -6.695487\n",
      "50%      2.119946\n",
      "75%      9.292260\n",
      "max    101.982124\n"
     ]
    }
   ],
   "source": [
    "from statsmodels.tsa.arima.model import ARIMA\n",
    "\n",
    "df = pd.read_csv(r\"D:\\HPE_CTY\\data\\cust01.csv\", header=0, parse_dates=[0], index_col=0)\n",
    "df.index = df.index.to_period('D')\n",
    "\n",
    "series = df.daily_usage\n",
    "# fit model\n",
    "model = ARIMA(series, order=(5,1,0))   #5 din ka data historical data, shift by 1\n",
    "model_fit = model.fit()\n",
    "# summary of fit model\n",
    "print(model_fit.summary())\n",
    "# line plot of residuals\n",
    "residuals = pd.DataFrame(model_fit.resid)\n",
    "residuals.plot()\n",
    "plt.show()\n",
    "# density plot of residuals\n",
    "residuals.plot(kind='kde')           #normalised plot\n",
    "plt.show()\n",
    "# summary stats of residuals\n",
    "print(residuals.describe())"
   ]
  },
  {
   "cell_type": "markdown",
   "metadata": {},
   "source": [
    "Now, let us train our ARIMA model on all the datasets."
   ]
  },
  {
   "cell_type": "code",
   "execution_count": 33,
   "metadata": {},
   "outputs": [],
   "source": [
    "def load_and_process_csv(file_path):\n",
    "    \"\"\"Function to load data files and process them for model training.\n",
    "    \n",
    "    Args-\n",
    "        file_path: String denoting file path\n",
    "    \n",
    "    Returns-\n",
    "        data: Pandas series object denoting data\n",
    "    \"\"\"\n",
    "    df = pd.read_csv(file_path, header=0, parse_dates=[0], index_col=0)\n",
    "    df.index = df.index.to_period('D')\n",
    "    series = df.daily_usage\n",
    "    return series"
   ]
  },
  {
   "cell_type": "code",
   "execution_count": 34,
   "metadata": {},
   "outputs": [],
   "source": [
    "import joblib\n",
    "\n",
    "def train_arima_model(fitted_model, data_dir):\n",
    "    \"\"\"Function to train ARIMA model on all user datasets.\n",
    "    \n",
    "    Args-\n",
    "        fitted_model: ARIMAResutls object (returned after ARIMA(...).fit())\n",
    "        data_dir: Path to the data directory.\n",
    "    \n",
    "    Returns-\n",
    "        results: ARIMA results\n",
    "    \"\"\"\n",
    "    for file in os.listdir(data_dir):\n",
    "        file_path = os.path.join(data_dir, file)\n",
    "        try:\n",
    "            data = load_and_process_csv(file_path)\n",
    "        except:\n",
    "            continue\n",
    "        fitted_model = fitted_model.apply(data)\n",
    "    save_dir = r\"D:\\HPE_CTY\\pre_trained_models\\ARIMA\"\n",
    "    if not os.path.exists(save_dir):\n",
    "        os.mkdir(save_dir)\n",
    "    joblib.dump(fitted_model, os.path.join(save_dir, \"sarima.pkl\"))\n",
    "    return fitted_model"
   ]
  },
  {
   "cell_type": "code",
   "execution_count": 35,
   "metadata": {},
   "outputs": [],
   "source": [
    "fitted_model = train_arima_model(model_fit, dir_path)"
   ]
  },
  {
   "cell_type": "markdown",
   "metadata": {},
   "source": [
    "Now that we have trained out ARIMA model, let us test it's performance on a newly generated dataset."
   ]
  },
  {
   "cell_type": "code",
   "execution_count": 76,
   "metadata": {},
   "outputs": [
    {
     "name": "stdout",
     "output_type": "stream",
     "text": [
      "predicted=40.465284, expected=27.574786\n",
      "predicted=31.605345, expected=39.524048\n",
      "predicted=40.680962, expected=38.956714\n",
      "predicted=37.039839, expected=40.163553\n",
      "predicted=41.074567, expected=39.998773\n",
      "predicted=38.979241, expected=42.040560\n",
      "predicted=38.612202, expected=38.710908\n",
      "predicted=38.878812, expected=26.056478\n",
      "predicted=30.934270, expected=36.910031\n",
      "predicted=37.939344, expected=38.687491\n",
      "predicted=36.868451, expected=36.042140\n",
      "predicted=38.886324, expected=36.585765\n",
      "predicted=36.750159, expected=37.704894\n",
      "predicted=34.564369, expected=36.820405\n",
      "predicted=36.986668, expected=28.621796\n",
      "predicted=31.948071, expected=44.150440\n",
      "predicted=41.650865, expected=41.167824\n",
      "predicted=37.922362, expected=43.684657\n",
      "predicted=43.825178, expected=42.856781\n",
      "predicted=40.008813, expected=38.762110\n",
      "predicted=37.296730, expected=36.664903\n",
      "predicted=38.959471, expected=34.306818\n",
      "predicted=36.260855, expected=42.281548\n",
      "predicted=42.254467, expected=41.911551\n",
      "predicted=41.093355, expected=38.218070\n",
      "predicted=39.364229, expected=35.047611\n",
      "predicted=35.704623, expected=44.527431\n",
      "predicted=41.436195, expected=30.006186\n",
      "predicted=33.142875, expected=37.182050\n",
      "predicted=40.224372, expected=36.427024\n",
      "predicted=34.530344, expected=43.228537\n",
      "predicted=42.084803, expected=35.064882\n",
      "predicted=36.654834, expected=37.832364\n",
      "predicted=37.264745, expected=44.968339\n",
      "predicted=41.155221, expected=28.827159\n",
      "predicted=31.990102, expected=23.351181\n",
      "predicted=30.914248, expected=44.198278\n",
      "predicted=39.316662, expected=37.275326\n",
      "predicted=36.067432, expected=41.009708\n",
      "predicted=43.957252, expected=38.632840\n",
      "predicted=34.344686, expected=38.911559\n",
      "predicted=36.277090, expected=32.913067\n",
      "predicted=35.731698, expected=30.142366\n",
      "predicted=33.072356, expected=40.827897\n",
      "predicted=39.790827, expected=41.680506\n",
      "predicted=39.680981, expected=35.348435\n",
      "predicted=37.473064, expected=44.617674\n",
      "predicted=41.141435, expected=42.565504\n",
      "predicted=38.251137, expected=29.032506\n",
      "predicted=34.370784, expected=29.468765\n",
      "predicted=33.361807, expected=36.673290\n",
      "predicted=34.968361, expected=36.034584\n",
      "predicted=38.026599, expected=38.170377\n",
      "predicted=39.404061, expected=44.636091\n",
      "predicted=39.549547, expected=36.780430\n",
      "predicted=35.188367, expected=27.950264\n",
      "predicted=32.164030, expected=33.734696\n",
      "predicted=34.014788, expected=35.974705\n",
      "predicted=35.510619, expected=42.150915\n",
      "predicted=42.671050, expected=44.203411\n",
      "predicted=41.164038, expected=35.827199\n",
      "predicted=34.785287, expected=35.074240\n",
      "predicted=35.684832, expected=37.757128\n",
      "predicted=36.583301, expected=38.126834\n",
      "predicted=39.170327, expected=39.515507\n",
      "predicted=40.595371, expected=37.615192\n",
      "predicted=37.052056, expected=43.061786\n",
      "predicted=40.956635, expected=37.326804\n",
      "predicted=37.088217, expected=37.951446\n",
      "predicted=39.127794, expected=42.312026\n",
      "predicted=40.454339, expected=27.338354\n",
      "predicted=31.099466, expected=39.593608\n",
      "predicted=41.347804, expected=40.089794\n",
      "predicted=36.634961, expected=40.326459\n",
      "predicted=41.340790, expected=35.342618\n",
      "predicted=36.648198, expected=44.868917\n",
      "predicted=40.484921, expected=34.268067\n",
      "predicted=35.024051, expected=34.910532\n",
      "predicted=38.328823, expected=42.117534\n",
      "predicted=39.659046, expected=36.293455\n",
      "predicted=36.442086, expected=44.254718\n",
      "predicted=44.700412, expected=40.550441\n",
      "predicted=37.607665, expected=35.605615\n",
      "predicted=37.283224, expected=36.732280\n",
      "predicted=37.803112, expected=36.122698\n",
      "predicted=36.055695, expected=40.111151\n",
      "predicted=41.124107, expected=41.872743\n",
      "predicted=40.730319, expected=40.872554\n",
      "predicted=39.774382, expected=43.151874\n",
      "predicted=41.395311, expected=42.827868\n",
      "predicted=40.831349, expected=26.399183\n",
      "predicted=31.517424, expected=25.757665\n",
      "predicted=31.619755, expected=37.548148\n",
      "predicted=36.313521, expected=44.406929\n",
      "predicted=42.852371, expected=42.173639\n",
      "predicted=42.293735, expected=42.368978\n",
      "predicted=38.544899, expected=41.563529\n",
      "predicted=37.394636, expected=30.497570\n",
      "predicted=33.553525, expected=29.956933\n",
      "predicted=34.805062, expected=36.177603\n",
      "predicted=36.447526, expected=35.864883\n",
      "predicted=37.260170, expected=35.689052\n",
      "predicted=37.474517, expected=43.868118\n",
      "predicted=39.516667, expected=42.868114\n",
      "predicted=38.886380, expected=38.511282\n",
      "predicted=39.013656, expected=33.797254\n",
      "predicted=34.763166, expected=36.494875\n",
      "predicted=36.504708, expected=44.763213\n",
      "predicted=43.362004, expected=38.188444\n",
      "predicted=39.286659, expected=44.914991\n",
      "predicted=43.891680, expected=44.413655\n",
      "predicted=40.192685, expected=34.633095\n",
      "predicted=36.953946, expected=35.679578\n",
      "predicted=38.526727, expected=38.113425\n",
      "predicted=37.244394, expected=37.439858\n",
      "predicted=39.613216, expected=37.709812\n",
      "predicted=39.381124, expected=35.878156\n",
      "predicted=35.546961, expected=35.578099\n",
      "predicted=35.942609, expected=31.729712\n",
      "predicted=33.531485, expected=31.965471\n",
      "predicted=33.836735, expected=43.054530\n",
      "predicted=40.442140, expected=39.116300\n",
      "predicted=37.536005, expected=40.776350\n",
      "predicted=40.516716, expected=44.202847\n",
      "predicted=39.786351, expected=39.947827\n",
      "Test RMSE: 5.369\n"
     ]
    },
    {
     "data": {
      "image/png": "[encoded data removed]",
      "text/plain": [
       "<Figure size 432x288 with 1 Axes>"
      ]
     },
     "metadata": {
      "needs_background": "light"
     },
     "output_type": "display_data"
    }
   ],
   "source": [
    "# generating dataset\n",
    "test_user, test_user_type = generate_data_values(65, 70, 365) \n",
    "generate_dataset(user2, date, user_type_2, \"test_cust01.csv\", dir_path) # increase counter in file name by 1 before running\n",
    "\n",
    "# loading dataset\n",
    "df = pd.read_csv(r\"D:\\HPE_CTY\\data\\test_cust01.csv\", header=0, parse_dates=[0], index_col=0)\n",
    "df.index = df.index.to_period('D')\n",
    "series = df.daily_usage\n",
    "X = series.values\n",
    "\n",
    "# splitting into test-train splits \n",
    "size = int(len(X) * 0.66)\n",
    "train_data, test_data = X[0:size], X[size:len(X)]\n",
    "history = [x for x in train_data]\n",
    "predictions = list()\n",
    "# walk-forward validation\n",
    "for t in range(len(test_data)):\n",
    "    fitted_model = fitted_model.apply(history)\n",
    "    output = fitted_model.forecast()\n",
    "    yhat = output[0]\n",
    "    predictions.append(yhat)\n",
    "    obs = test_data[t]\n",
    "    history.append(obs)\n",
    "    print('predicted=%f, expected=%f' % (yhat, obs))\n",
    "# evaluate forecasts\n",
    "rmse = sqrt(mean_squared_error(test_data, predictions))\n",
    "print('Test RMSE: %.3f' % rmse)\n",
    "# plot forecasts against actual outcomes\n",
    "plt.plot(test_data)\n",
    "plt.plot(predictions, color='red')\n",
    "plt.show()"
   ]
  },
  {
   "cell_type": "code",
   "execution_count": 79,
   "metadata": {},
   "outputs": [
    {
     "data": {
      "text/plain": [
       "2022-01-01    33.642756\n",
       "Freq: D, dtype: float64"
      ]
     },
     "execution_count": 79,
     "metadata": {},
     "output_type": "execute_result"
    }
   ],
   "source": [
    "model = joblib.load(r\"D:\\HPE_CTY\\pre_trained_models\\ARIMA\\sarima.pkl\")\n",
    "output = model.forecast()\n",
    "output"
   ]
  },
  {
   "cell_type": "markdown",
   "metadata": {},
   "source": [
    "#### Observations\n",
    "---\n",
    "\n",
    "The following are the observations from the RMSE score post training and testing on the ARIMA model:\n",
    " - The test RMSE came out to be 5.93, which is significantly lower than the average RMSE of the MLP model.\n",
    " - For this model, the date was also factored in as a dependent variable, which means that unlike the MLP model, this model is time-variant. Thus factors like low sale periods or high sale periods of a business can affect the total data consumption of the SaaS user.\n",
    " - The graph, comparing the ground truth to the predicted data clearly shows that the model is very accurate, and is generalized in terms of the data it can perform inference on."
   ]
  },
  {
   "cell_type": "markdown",
   "metadata": {},
   "source": [
    "### 3. LSTM Model\n",
    "---\n",
    "\n",
    "In this section, we are going to train an LSTM model, belonging to the category of memory-cell based data models, and evaluate its performance. It is generally seen that LSTMs tend to perform better than regular RNNs when it comes to memory-based data modeling."
   ]
  },
  {
   "cell_type": "code",
   "execution_count": 37,
   "metadata": {},
   "outputs": [],
   "source": [
    "from keras.layers import LSTM\n",
    "\n",
    "def get_or_create_lstm_model(model_path=None, config=None):\n",
    "    \"\"\"Function to get or create\n",
    "    \"\"\"\n",
    "    try:\n",
    "        model = load_model(model_path)\n",
    "    except:\n",
    "        n_input, n_nodes, _, _ = config\n",
    "        model = Sequential()\n",
    "        model.add(LSTM(n_nodes, activation='relu', input_shape=(n_input, 1)))\n",
    "        model.add(Dense(n_nodes, activation='relu'))\n",
    "        model.add(Dense(1))\n",
    "        model.compile(loss='mse', optimizer='adam') \n",
    "    return model"
   ]
  },
  {
   "cell_type": "code",
   "execution_count": 38,
   "metadata": {},
   "outputs": [],
   "source": [
    "def model_fit_lstm(model, train_data, config):\n",
    "    \"\"\"Util function to train a model on training data.\n",
    "    \n",
    "    Args-\n",
    "        train_data: Training data\n",
    "        config: Hyperparam config values array\n",
    "        model: Pre-trained model\n",
    "    Returns-\n",
    "        model: Trained model \n",
    "    \"\"\"\n",
    "    n_input, _, n_epochs, n_batch = config\n",
    "    # prepare data\n",
    "    data = convert_series_to_supervised(train_data, n_in=n_input) \n",
    "    train_x, train_y = data[:, :-1], data[:, -1]\n",
    "\t# fit\n",
    "    model.fit(train_x, train_y, epochs=n_epochs, batch_size=n_batch, verbose=0)\n",
    "    save_model(model, \"LSTM\", r\"D:\\HPE_CTY\\pre_trained_models\")\n",
    "    return model"
   ]
  },
  {
   "cell_type": "code",
   "execution_count": 39,
   "metadata": {},
   "outputs": [],
   "source": [
    "def walk_forward_validation_lstm(data, n_test, cfg):\n",
    "    \"\"\"Function to generate walk-forward validation for univariate data.\n",
    "\n",
    "    Args-\n",
    "        data: Data array\n",
    "        n_test: Number of test instances\n",
    "        cfg: Config array\n",
    "\n",
    "    Returns-\n",
    "        error: RMSE error\n",
    "    \"\"\"\n",
    "    predictions = list()\n",
    "\t# split dataset\n",
    "    train_data, test_data = train_test_split(data, n_test)\n",
    "    # get or create model\n",
    "    model = get_or_create_lstm_model(r\"D:\\HPE\\pre_trained_models\\LSTM\", cfg)\n",
    "\t# fit model\n",
    "    model = model_fit_lstm(model, train_data, cfg)\n",
    "\t# seed history with training dataset\n",
    "    history = [x for x in train_data]\n",
    "\t# step over each time-step in the test set\n",
    "    for i in range(len(test_data)):\n",
    "\t\t# fit model and make forecast for history\n",
    "        yhat = model_predict(model, history, cfg)\n",
    "\t\t# store forecast in list of predictions\n",
    "        predictions.append(yhat)\n",
    "\t\t# add actual observation to history for the next loop\n",
    "        history.append(test_data[i])\n",
    "\t# estimate prediction error\n",
    "    error = measure_rmse(test_data, predictions)\n",
    "    print(' > %.3f' % error)\n",
    "    return error"
   ]
  },
  {
   "cell_type": "markdown",
   "metadata": {},
   "source": [
    "### Training the Model\n",
    "---"
   ]
  },
  {
   "cell_type": "code",
   "execution_count": 41,
   "metadata": {},
   "outputs": [],
   "source": [
    "def train_model_lstm(data_dir, n_test, config):\n",
    "    \"\"\"Function to train the model.\n",
    "    \n",
    "    Args-\n",
    "        data_dir: Directory with individual datasets.\n",
    "        n_test: Number of test instances\n",
    "        config: Cofig directory\n",
    "\n",
    "    Returns-\n",
    "        None\n",
    "    \"\"\"\n",
    "    error_list = list()\n",
    "    for file in os.listdir(data_dir):\n",
    "        try:\n",
    "            df = pd.read_csv(os.path.join(dir_path, file))\n",
    "            data = df.daily_usage.to_numpy()\n",
    "            error = walk_forward_validation_lstm(data, n_test, config)\n",
    "            print(error)\n",
    "            error_list.append(error)\n",
    "        except:\n",
    "            continue\n",
    "    summarize_scores(\"MLP\", error_list)"
   ]
  },
  {
   "cell_type": "code",
   "execution_count": 42,
   "metadata": {},
   "outputs": [
    {
     "name": "stdout",
     "output_type": "stream",
     "text": [
      "INFO:tensorflow:Assets written to: D:\\HPE_CTY\\pre_trained_models\\LSTM\\assets\n"
     ]
    },
    {
     "name": "stderr",
     "output_type": "stream",
     "text": [
      "WARNING:absl:<keras.layers.recurrent.LSTMCell object at 0x000001D47DC33D00> has the same name 'LSTMCell' as a built-in Keras object. Consider renaming <class 'keras.layers.recurrent.LSTMCell'> to avoid naming conflicts when loading with `tf.keras.models.load_model`. If renaming is not possible, pass the object in the `custom_objects` parameter of the load function.\n"
     ]
    },
    {
     "name": "stdout",
     "output_type": "stream",
     "text": [
      " > 28.730\n",
      "28.730150655767762\n",
      "INFO:tensorflow:Assets written to: D:\\HPE_CTY\\pre_trained_models\\LSTM\\assets\n"
     ]
    },
    {
     "name": "stderr",
     "output_type": "stream",
     "text": [
      "INFO:tensorflow:Assets written to: D:\\HPE_CTY\\pre_trained_models\\LSTM\\assets\n",
      "WARNING:absl:<keras.layers.recurrent.LSTMCell object at 0x000001D47F447A60> has the same name 'LSTMCell' as a built-in Keras object. Consider renaming <class 'keras.layers.recurrent.LSTMCell'> to avoid naming conflicts when loading with `tf.keras.models.load_model`. If renaming is not possible, pass the object in the `custom_objects` parameter of the load function.\n"
     ]
    },
    {
     "name": "stdout",
     "output_type": "stream",
     "text": [
      " > 4.713\n",
      "4.712714910469595\n",
      "INFO:tensorflow:Assets written to: D:\\HPE_CTY\\pre_trained_models\\LSTM\\assets\n"
     ]
    },
    {
     "name": "stderr",
     "output_type": "stream",
     "text": [
      "INFO:tensorflow:Assets written to: D:\\HPE_CTY\\pre_trained_models\\LSTM\\assets\n",
      "WARNING:absl:<keras.layers.recurrent.LSTMCell object at 0x000001D40DB44EE0> has the same name 'LSTMCell' as a built-in Keras object. Consider renaming <class 'keras.layers.recurrent.LSTMCell'> to avoid naming conflicts when loading with `tf.keras.models.load_model`. If renaming is not possible, pass the object in the `custom_objects` parameter of the load function.\n"
     ]
    },
    {
     "name": "stdout",
     "output_type": "stream",
     "text": [
      " > 2.142\n",
      "2.142268199581669\n",
      "INFO:tensorflow:Assets written to: D:\\HPE_CTY\\pre_trained_models\\LSTM\\assets\n"
     ]
    },
    {
     "name": "stderr",
     "output_type": "stream",
     "text": [
      "INFO:tensorflow:Assets written to: D:\\HPE_CTY\\pre_trained_models\\LSTM\\assets\n",
      "WARNING:absl:<keras.layers.recurrent.LSTMCell object at 0x000001D47F2A2AC0> has the same name 'LSTMCell' as a built-in Keras object. Consider renaming <class 'keras.layers.recurrent.LSTMCell'> to avoid naming conflicts when loading with `tf.keras.models.load_model`. If renaming is not possible, pass the object in the `custom_objects` parameter of the load function.\n"
     ]
    },
    {
     "name": "stdout",
     "output_type": "stream",
     "text": [
      " > 1.930\n",
      "1.9298422399832054\n",
      "INFO:tensorflow:Assets written to: D:\\HPE_CTY\\pre_trained_models\\LSTM\\assets\n"
     ]
    },
    {
     "name": "stderr",
     "output_type": "stream",
     "text": [
      "INFO:tensorflow:Assets written to: D:\\HPE_CTY\\pre_trained_models\\LSTM\\assets\n",
      "WARNING:absl:<keras.layers.recurrent.LSTMCell object at 0x000001D47F38A5E0> has the same name 'LSTMCell' as a built-in Keras object. Consider renaming <class 'keras.layers.recurrent.LSTMCell'> to avoid naming conflicts when loading with `tf.keras.models.load_model`. If renaming is not possible, pass the object in the `custom_objects` parameter of the load function.\n"
     ]
    },
    {
     "name": "stdout",
     "output_type": "stream",
     "text": [
      " > 3.319\n",
      "3.3189503877276545\n",
      "INFO:tensorflow:Assets written to: D:\\HPE_CTY\\pre_trained_models\\LSTM\\assets\n"
     ]
    },
    {
     "name": "stderr",
     "output_type": "stream",
     "text": [
      "INFO:tensorflow:Assets written to: D:\\HPE_CTY\\pre_trained_models\\LSTM\\assets\n",
      "WARNING:absl:<keras.layers.recurrent.LSTMCell object at 0x000001D47F685790> has the same name 'LSTMCell' as a built-in Keras object. Consider renaming <class 'keras.layers.recurrent.LSTMCell'> to avoid naming conflicts when loading with `tf.keras.models.load_model`. If renaming is not possible, pass the object in the `custom_objects` parameter of the load function.\n"
     ]
    },
    {
     "name": "stdout",
     "output_type": "stream",
     "text": [
      " > 5.768\n",
      "5.768043611535482\n",
      "INFO:tensorflow:Assets written to: D:\\HPE_CTY\\pre_trained_models\\LSTM\\assets\n"
     ]
    },
    {
     "name": "stderr",
     "output_type": "stream",
     "text": [
      "INFO:tensorflow:Assets written to: D:\\HPE_CTY\\pre_trained_models\\LSTM\\assets\n",
      "WARNING:absl:<keras.layers.recurrent.LSTMCell object at 0x000001D40EC7C340> has the same name 'LSTMCell' as a built-in Keras object. Consider renaming <class 'keras.layers.recurrent.LSTMCell'> to avoid naming conflicts when loading with `tf.keras.models.load_model`. If renaming is not possible, pass the object in the `custom_objects` parameter of the load function.\n"
     ]
    },
    {
     "name": "stdout",
     "output_type": "stream",
     "text": [
      " > 1.823\n",
      "1.8232414492487532\n",
      "INFO:tensorflow:Assets written to: D:\\HPE_CTY\\pre_trained_models\\LSTM\\assets\n"
     ]
    },
    {
     "name": "stderr",
     "output_type": "stream",
     "text": [
      "INFO:tensorflow:Assets written to: D:\\HPE_CTY\\pre_trained_models\\LSTM\\assets\n",
      "WARNING:absl:<keras.layers.recurrent.LSTMCell object at 0x000001D412154E20> has the same name 'LSTMCell' as a built-in Keras object. Consider renaming <class 'keras.layers.recurrent.LSTMCell'> to avoid naming conflicts when loading with `tf.keras.models.load_model`. If renaming is not possible, pass the object in the `custom_objects` parameter of the load function.\n"
     ]
    },
    {
     "name": "stdout",
     "output_type": "stream",
     "text": [
      " > 5.103\n",
      "5.103344773377654\n",
      "INFO:tensorflow:Assets written to: D:\\HPE_CTY\\pre_trained_models\\LSTM\\assets\n"
     ]
    },
    {
     "name": "stderr",
     "output_type": "stream",
     "text": [
      "INFO:tensorflow:Assets written to: D:\\HPE_CTY\\pre_trained_models\\LSTM\\assets\n",
      "WARNING:absl:<keras.layers.recurrent.LSTMCell object at 0x000001D47EFE07F0> has the same name 'LSTMCell' as a built-in Keras object. Consider renaming <class 'keras.layers.recurrent.LSTMCell'> to avoid naming conflicts when loading with `tf.keras.models.load_model`. If renaming is not possible, pass the object in the `custom_objects` parameter of the load function.\n"
     ]
    },
    {
     "name": "stdout",
     "output_type": "stream",
     "text": [
      " > 36.593\n",
      "36.593240914322855\n",
      "INFO:tensorflow:Assets written to: D:\\HPE_CTY\\pre_trained_models\\LSTM\\assets\n"
     ]
    },
    {
     "name": "stderr",
     "output_type": "stream",
     "text": [
      "INFO:tensorflow:Assets written to: D:\\HPE_CTY\\pre_trained_models\\LSTM\\assets\n",
      "WARNING:absl:<keras.layers.recurrent.LSTMCell object at 0x000001D47F08AB50> has the same name 'LSTMCell' as a built-in Keras object. Consider renaming <class 'keras.layers.recurrent.LSTMCell'> to avoid naming conflicts when loading with `tf.keras.models.load_model`. If renaming is not possible, pass the object in the `custom_objects` parameter of the load function.\n"
     ]
    },
    {
     "name": "stdout",
     "output_type": "stream",
     "text": [
      " > 15.209\n",
      "15.209437057983175\n",
      "INFO:tensorflow:Assets written to: D:\\HPE_CTY\\pre_trained_models\\LSTM\\assets\n"
     ]
    },
    {
     "name": "stderr",
     "output_type": "stream",
     "text": [
      "INFO:tensorflow:Assets written to: D:\\HPE_CTY\\pre_trained_models\\LSTM\\assets\n",
      "WARNING:absl:<keras.layers.recurrent.LSTMCell object at 0x000001D47F2290D0> has the same name 'LSTMCell' as a built-in Keras object. Consider renaming <class 'keras.layers.recurrent.LSTMCell'> to avoid naming conflicts when loading with `tf.keras.models.load_model`. If renaming is not possible, pass the object in the `custom_objects` parameter of the load function.\n"
     ]
    },
    {
     "name": "stdout",
     "output_type": "stream",
     "text": [
      " > 5.864\n",
      "5.863963838924209\n",
      "INFO:tensorflow:Assets written to: D:\\HPE_CTY\\pre_trained_models\\LSTM\\assets\n"
     ]
    },
    {
     "name": "stderr",
     "output_type": "stream",
     "text": [
      "INFO:tensorflow:Assets written to: D:\\HPE_CTY\\pre_trained_models\\LSTM\\assets\n",
      "WARNING:absl:<keras.layers.recurrent.LSTMCell object at 0x000001D40FE4D280> has the same name 'LSTMCell' as a built-in Keras object. Consider renaming <class 'keras.layers.recurrent.LSTMCell'> to avoid naming conflicts when loading with `tf.keras.models.load_model`. If renaming is not possible, pass the object in the `custom_objects` parameter of the load function.\n"
     ]
    },
    {
     "name": "stdout",
     "output_type": "stream",
     "text": [
      " > 3.746\n",
      "3.7464206503143633\n",
      "INFO:tensorflow:Assets written to: D:\\HPE_CTY\\pre_trained_models\\LSTM\\assets\n"
     ]
    },
    {
     "name": "stderr",
     "output_type": "stream",
     "text": [
      "INFO:tensorflow:Assets written to: D:\\HPE_CTY\\pre_trained_models\\LSTM\\assets\n",
      "WARNING:absl:<keras.layers.recurrent.LSTMCell object at 0x000001D47F36A280> has the same name 'LSTMCell' as a built-in Keras object. Consider renaming <class 'keras.layers.recurrent.LSTMCell'> to avoid naming conflicts when loading with `tf.keras.models.load_model`. If renaming is not possible, pass the object in the `custom_objects` parameter of the load function.\n"
     ]
    },
    {
     "name": "stdout",
     "output_type": "stream",
     "text": [
      " > 40.395\n",
      "40.39547055618058\n",
      "INFO:tensorflow:Assets written to: D:\\HPE_CTY\\pre_trained_models\\LSTM\\assets\n"
     ]
    },
    {
     "name": "stderr",
     "output_type": "stream",
     "text": [
      "INFO:tensorflow:Assets written to: D:\\HPE_CTY\\pre_trained_models\\LSTM\\assets\n",
      "WARNING:absl:<keras.layers.recurrent.LSTMCell object at 0x000001D40EC8E250> has the same name 'LSTMCell' as a built-in Keras object. Consider renaming <class 'keras.layers.recurrent.LSTMCell'> to avoid naming conflicts when loading with `tf.keras.models.load_model`. If renaming is not possible, pass the object in the `custom_objects` parameter of the load function.\n"
     ]
    },
    {
     "name": "stdout",
     "output_type": "stream",
     "text": [
      " > 1.852\n",
      "1.8521885599158803\n",
      "INFO:tensorflow:Assets written to: D:\\HPE_CTY\\pre_trained_models\\LSTM\\assets\n"
     ]
    },
    {
     "name": "stderr",
     "output_type": "stream",
     "text": [
      "INFO:tensorflow:Assets written to: D:\\HPE_CTY\\pre_trained_models\\LSTM\\assets\n",
      "WARNING:absl:<keras.layers.recurrent.LSTMCell object at 0x000001D47CC10430> has the same name 'LSTMCell' as a built-in Keras object. Consider renaming <class 'keras.layers.recurrent.LSTMCell'> to avoid naming conflicts when loading with `tf.keras.models.load_model`. If renaming is not possible, pass the object in the `custom_objects` parameter of the load function.\n"
     ]
    },
    {
     "name": "stdout",
     "output_type": "stream",
     "text": [
      " > 7.896\n",
      "7.895906958205245\n",
      "INFO:tensorflow:Assets written to: D:\\HPE_CTY\\pre_trained_models\\LSTM\\assets\n"
     ]
    },
    {
     "name": "stderr",
     "output_type": "stream",
     "text": [
      "INFO:tensorflow:Assets written to: D:\\HPE_CTY\\pre_trained_models\\LSTM\\assets\n",
      "WARNING:absl:<keras.layers.recurrent.LSTMCell object at 0x000001D47F6A71F0> has the same name 'LSTMCell' as a built-in Keras object. Consider renaming <class 'keras.layers.recurrent.LSTMCell'> to avoid naming conflicts when loading with `tf.keras.models.load_model`. If renaming is not possible, pass the object in the `custom_objects` parameter of the load function.\n"
     ]
    },
    {
     "name": "stdout",
     "output_type": "stream",
     "text": [
      " > 58.580\n",
      "58.579615530792935\n",
      "INFO:tensorflow:Assets written to: D:\\HPE_CTY\\pre_trained_models\\LSTM\\assets\n"
     ]
    },
    {
     "name": "stderr",
     "output_type": "stream",
     "text": [
      "INFO:tensorflow:Assets written to: D:\\HPE_CTY\\pre_trained_models\\LSTM\\assets\n",
      "WARNING:absl:<keras.layers.recurrent.LSTMCell object at 0x000001D47F506C10> has the same name 'LSTMCell' as a built-in Keras object. Consider renaming <class 'keras.layers.recurrent.LSTMCell'> to avoid naming conflicts when loading with `tf.keras.models.load_model`. If renaming is not possible, pass the object in the `custom_objects` parameter of the load function.\n"
     ]
    },
    {
     "name": "stdout",
     "output_type": "stream",
     "text": [
      " > 3.984\n",
      "3.9844740538599215\n",
      "INFO:tensorflow:Assets written to: D:\\HPE_CTY\\pre_trained_models\\LSTM\\assets\n"
     ]
    },
    {
     "name": "stderr",
     "output_type": "stream",
     "text": [
      "INFO:tensorflow:Assets written to: D:\\HPE_CTY\\pre_trained_models\\LSTM\\assets\n",
      "WARNING:absl:<keras.layers.recurrent.LSTMCell object at 0x000001D47F48D280> has the same name 'LSTMCell' as a built-in Keras object. Consider renaming <class 'keras.layers.recurrent.LSTMCell'> to avoid naming conflicts when loading with `tf.keras.models.load_model`. If renaming is not possible, pass the object in the `custom_objects` parameter of the load function.\n"
     ]
    },
    {
     "name": "stdout",
     "output_type": "stream",
     "text": [
      " > 4.926\n",
      "4.926409337424866\n",
      "INFO:tensorflow:Assets written to: D:\\HPE_CTY\\pre_trained_models\\LSTM\\assets\n"
     ]
    },
    {
     "name": "stderr",
     "output_type": "stream",
     "text": [
      "INFO:tensorflow:Assets written to: D:\\HPE_CTY\\pre_trained_models\\LSTM\\assets\n",
      "WARNING:absl:<keras.layers.recurrent.LSTMCell object at 0x000001D40ED07850> has the same name 'LSTMCell' as a built-in Keras object. Consider renaming <class 'keras.layers.recurrent.LSTMCell'> to avoid naming conflicts when loading with `tf.keras.models.load_model`. If renaming is not possible, pass the object in the `custom_objects` parameter of the load function.\n"
     ]
    },
    {
     "name": "stdout",
     "output_type": "stream",
     "text": [
      " > 0.543\n",
      "0.5425833295643238\n",
      "INFO:tensorflow:Assets written to: D:\\HPE_CTY\\pre_trained_models\\LSTM\\assets\n"
     ]
    },
    {
     "name": "stderr",
     "output_type": "stream",
     "text": [
      "INFO:tensorflow:Assets written to: D:\\HPE_CTY\\pre_trained_models\\LSTM\\assets\n",
      "WARNING:absl:<keras.layers.recurrent.LSTMCell object at 0x000001D47F3B50A0> has the same name 'LSTMCell' as a built-in Keras object. Consider renaming <class 'keras.layers.recurrent.LSTMCell'> to avoid naming conflicts when loading with `tf.keras.models.load_model`. If renaming is not possible, pass the object in the `custom_objects` parameter of the load function.\n"
     ]
    },
    {
     "name": "stdout",
     "output_type": "stream",
     "text": [
      " > 4.116\n",
      "4.11636962399169\n",
      "INFO:tensorflow:Assets written to: D:\\HPE_CTY\\pre_trained_models\\LSTM\\assets\n"
     ]
    },
    {
     "name": "stderr",
     "output_type": "stream",
     "text": [
      "INFO:tensorflow:Assets written to: D:\\HPE_CTY\\pre_trained_models\\LSTM\\assets\n",
      "WARNING:absl:<keras.layers.recurrent.LSTMCell object at 0x000001D40ED5A610> has the same name 'LSTMCell' as a built-in Keras object. Consider renaming <class 'keras.layers.recurrent.LSTMCell'> to avoid naming conflicts when loading with `tf.keras.models.load_model`. If renaming is not possible, pass the object in the `custom_objects` parameter of the load function.\n"
     ]
    },
    {
     "name": "stdout",
     "output_type": "stream",
     "text": [
      " > 51.479\n",
      "51.47944765801772\n",
      "INFO:tensorflow:Assets written to: D:\\HPE_CTY\\pre_trained_models\\LSTM\\assets\n"
     ]
    },
    {
     "name": "stderr",
     "output_type": "stream",
     "text": [
      "INFO:tensorflow:Assets written to: D:\\HPE_CTY\\pre_trained_models\\LSTM\\assets\n",
      "WARNING:absl:<keras.layers.recurrent.LSTMCell object at 0x000001D47EFEB220> has the same name 'LSTMCell' as a built-in Keras object. Consider renaming <class 'keras.layers.recurrent.LSTMCell'> to avoid naming conflicts when loading with `tf.keras.models.load_model`. If renaming is not possible, pass the object in the `custom_objects` parameter of the load function.\n"
     ]
    },
    {
     "name": "stdout",
     "output_type": "stream",
     "text": [
      " > 3.088\n",
      "3.0883146434626148\n",
      "INFO:tensorflow:Assets written to: D:\\HPE_CTY\\pre_trained_models\\LSTM\\assets\n"
     ]
    },
    {
     "name": "stderr",
     "output_type": "stream",
     "text": [
      "INFO:tensorflow:Assets written to: D:\\HPE_CTY\\pre_trained_models\\LSTM\\assets\n",
      "WARNING:absl:<keras.layers.recurrent.LSTMCell object at 0x000001D40DBB29D0> has the same name 'LSTMCell' as a built-in Keras object. Consider renaming <class 'keras.layers.recurrent.LSTMCell'> to avoid naming conflicts when loading with `tf.keras.models.load_model`. If renaming is not possible, pass the object in the `custom_objects` parameter of the load function.\n"
     ]
    },
    {
     "name": "stdout",
     "output_type": "stream",
     "text": [
      " > 5.648\n",
      "5.647735446329283\n",
      "INFO:tensorflow:Assets written to: D:\\HPE_CTY\\pre_trained_models\\LSTM\\assets\n"
     ]
    },
    {
     "name": "stderr",
     "output_type": "stream",
     "text": [
      "INFO:tensorflow:Assets written to: D:\\HPE_CTY\\pre_trained_models\\LSTM\\assets\n",
      "WARNING:absl:<keras.layers.recurrent.LSTMCell object at 0x000001D47F6D14C0> has the same name 'LSTMCell' as a built-in Keras object. Consider renaming <class 'keras.layers.recurrent.LSTMCell'> to avoid naming conflicts when loading with `tf.keras.models.load_model`. If renaming is not possible, pass the object in the `custom_objects` parameter of the load function.\n"
     ]
    },
    {
     "name": "stdout",
     "output_type": "stream",
     "text": [
      " > 2.786\n",
      "2.7860176682125735\n",
      "INFO:tensorflow:Assets written to: D:\\HPE_CTY\\pre_trained_models\\LSTM\\assets\n"
     ]
    },
    {
     "name": "stderr",
     "output_type": "stream",
     "text": [
      "INFO:tensorflow:Assets written to: D:\\HPE_CTY\\pre_trained_models\\LSTM\\assets\n",
      "WARNING:absl:<keras.layers.recurrent.LSTMCell object at 0x000001D47EF32460> has the same name 'LSTMCell' as a built-in Keras object. Consider renaming <class 'keras.layers.recurrent.LSTMCell'> to avoid naming conflicts when loading with `tf.keras.models.load_model`. If renaming is not possible, pass the object in the `custom_objects` parameter of the load function.\n"
     ]
    },
    {
     "name": "stdout",
     "output_type": "stream",
     "text": [
      " > 9.084\n",
      "9.083925600343095\n",
      "INFO:tensorflow:Assets written to: D:\\HPE_CTY\\pre_trained_models\\LSTM\\assets\n"
     ]
    },
    {
     "name": "stderr",
     "output_type": "stream",
     "text": [
      "INFO:tensorflow:Assets written to: D:\\HPE_CTY\\pre_trained_models\\LSTM\\assets\n",
      "WARNING:absl:<keras.layers.recurrent.LSTMCell object at 0x000001D410F84A90> has the same name 'LSTMCell' as a built-in Keras object. Consider renaming <class 'keras.layers.recurrent.LSTMCell'> to avoid naming conflicts when loading with `tf.keras.models.load_model`. If renaming is not possible, pass the object in the `custom_objects` parameter of the load function.\n"
     ]
    },
    {
     "name": "stdout",
     "output_type": "stream",
     "text": [
      " > 4.843\n",
      "4.843376854061458\n",
      "INFO:tensorflow:Assets written to: D:\\HPE_CTY\\pre_trained_models\\LSTM\\assets\n"
     ]
    },
    {
     "name": "stderr",
     "output_type": "stream",
     "text": [
      "INFO:tensorflow:Assets written to: D:\\HPE_CTY\\pre_trained_models\\LSTM\\assets\n",
      "WARNING:absl:<keras.layers.recurrent.LSTMCell object at 0x000001D47CB8DF10> has the same name 'LSTMCell' as a built-in Keras object. Consider renaming <class 'keras.layers.recurrent.LSTMCell'> to avoid naming conflicts when loading with `tf.keras.models.load_model`. If renaming is not possible, pass the object in the `custom_objects` parameter of the load function.\n"
     ]
    },
    {
     "name": "stdout",
     "output_type": "stream",
     "text": [
      " > 1.936\n",
      "1.9355511101302407\n",
      "INFO:tensorflow:Assets written to: D:\\HPE_CTY\\pre_trained_models\\LSTM\\assets\n"
     ]
    },
    {
     "name": "stderr",
     "output_type": "stream",
     "text": [
      "INFO:tensorflow:Assets written to: D:\\HPE_CTY\\pre_trained_models\\LSTM\\assets\n",
      "WARNING:absl:<keras.layers.recurrent.LSTMCell object at 0x000001D47F03A8B0> has the same name 'LSTMCell' as a built-in Keras object. Consider renaming <class 'keras.layers.recurrent.LSTMCell'> to avoid naming conflicts when loading with `tf.keras.models.load_model`. If renaming is not possible, pass the object in the `custom_objects` parameter of the load function.\n"
     ]
    },
    {
     "name": "stdout",
     "output_type": "stream",
     "text": [
      " > 3.555\n",
      "3.5548485053253307\n",
      "INFO:tensorflow:Assets written to: D:\\HPE_CTY\\pre_trained_models\\LSTM\\assets\n"
     ]
    },
    {
     "name": "stderr",
     "output_type": "stream",
     "text": [
      "INFO:tensorflow:Assets written to: D:\\HPE_CTY\\pre_trained_models\\LSTM\\assets\n",
      "WARNING:absl:<keras.layers.recurrent.LSTMCell object at 0x000001D40FE9ECD0> has the same name 'LSTMCell' as a built-in Keras object. Consider renaming <class 'keras.layers.recurrent.LSTMCell'> to avoid naming conflicts when loading with `tf.keras.models.load_model`. If renaming is not possible, pass the object in the `custom_objects` parameter of the load function.\n"
     ]
    },
    {
     "name": "stdout",
     "output_type": "stream",
     "text": [
      " > 8.057\n",
      "8.057050068630325\n",
      "INFO:tensorflow:Assets written to: D:\\HPE_CTY\\pre_trained_models\\LSTM\\assets\n"
     ]
    },
    {
     "name": "stderr",
     "output_type": "stream",
     "text": [
      "INFO:tensorflow:Assets written to: D:\\HPE_CTY\\pre_trained_models\\LSTM\\assets\n",
      "WARNING:absl:<keras.layers.recurrent.LSTMCell object at 0x000001D47CB06250> has the same name 'LSTMCell' as a built-in Keras object. Consider renaming <class 'keras.layers.recurrent.LSTMCell'> to avoid naming conflicts when loading with `tf.keras.models.load_model`. If renaming is not possible, pass the object in the `custom_objects` parameter of the load function.\n"
     ]
    },
    {
     "name": "stdout",
     "output_type": "stream",
     "text": [
      " > 1.661\n",
      "1.6608590090027853\n",
      "INFO:tensorflow:Assets written to: D:\\HPE_CTY\\pre_trained_models\\LSTM\\assets\n"
     ]
    },
    {
     "name": "stderr",
     "output_type": "stream",
     "text": [
      "INFO:tensorflow:Assets written to: D:\\HPE_CTY\\pre_trained_models\\LSTM\\assets\n",
      "WARNING:absl:<keras.layers.recurrent.LSTMCell object at 0x000001D47F257FD0> has the same name 'LSTMCell' as a built-in Keras object. Consider renaming <class 'keras.layers.recurrent.LSTMCell'> to avoid naming conflicts when loading with `tf.keras.models.load_model`. If renaming is not possible, pass the object in the `custom_objects` parameter of the load function.\n"
     ]
    },
    {
     "name": "stdout",
     "output_type": "stream",
     "text": [
      " > 14.308\n",
      "14.308352021049794\n",
      "INFO:tensorflow:Assets written to: D:\\HPE_CTY\\pre_trained_models\\LSTM\\assets\n"
     ]
    },
    {
     "name": "stderr",
     "output_type": "stream",
     "text": [
      "INFO:tensorflow:Assets written to: D:\\HPE_CTY\\pre_trained_models\\LSTM\\assets\n",
      "WARNING:absl:<keras.layers.recurrent.LSTMCell object at 0x000001D40C9EAE80> has the same name 'LSTMCell' as a built-in Keras object. Consider renaming <class 'keras.layers.recurrent.LSTMCell'> to avoid naming conflicts when loading with `tf.keras.models.load_model`. If renaming is not possible, pass the object in the `custom_objects` parameter of the load function.\n"
     ]
    },
    {
     "name": "stdout",
     "output_type": "stream",
     "text": [
      " > 4.933\n",
      "4.93334659788818\n",
      "INFO:tensorflow:Assets written to: D:\\HPE_CTY\\pre_trained_models\\LSTM\\assets\n"
     ]
    },
    {
     "name": "stderr",
     "output_type": "stream",
     "text": [
      "INFO:tensorflow:Assets written to: D:\\HPE_CTY\\pre_trained_models\\LSTM\\assets\n",
      "WARNING:absl:<keras.layers.recurrent.LSTMCell object at 0x000001D40EC547C0> has the same name 'LSTMCell' as a built-in Keras object. Consider renaming <class 'keras.layers.recurrent.LSTMCell'> to avoid naming conflicts when loading with `tf.keras.models.load_model`. If renaming is not possible, pass the object in the `custom_objects` parameter of the load function.\n"
     ]
    },
    {
     "name": "stdout",
     "output_type": "stream",
     "text": [
      " > 1.977\n",
      "1.9766154148851778\n",
      "INFO:tensorflow:Assets written to: D:\\HPE_CTY\\pre_trained_models\\LSTM\\assets\n"
     ]
    },
    {
     "name": "stderr",
     "output_type": "stream",
     "text": [
      "INFO:tensorflow:Assets written to: D:\\HPE_CTY\\pre_trained_models\\LSTM\\assets\n",
      "WARNING:absl:<keras.layers.recurrent.LSTMCell object at 0x000001D47F0BF280> has the same name 'LSTMCell' as a built-in Keras object. Consider renaming <class 'keras.layers.recurrent.LSTMCell'> to avoid naming conflicts when loading with `tf.keras.models.load_model`. If renaming is not possible, pass the object in the `custom_objects` parameter of the load function.\n"
     ]
    },
    {
     "name": "stdout",
     "output_type": "stream",
     "text": [
      " > 4.859\n",
      "4.859464043700908\n",
      "INFO:tensorflow:Assets written to: D:\\HPE_CTY\\pre_trained_models\\LSTM\\assets\n"
     ]
    },
    {
     "name": "stderr",
     "output_type": "stream",
     "text": [
      "INFO:tensorflow:Assets written to: D:\\HPE_CTY\\pre_trained_models\\LSTM\\assets\n",
      "WARNING:absl:<keras.layers.recurrent.LSTMCell object at 0x000001D40B77CEE0> has the same name 'LSTMCell' as a built-in Keras object. Consider renaming <class 'keras.layers.recurrent.LSTMCell'> to avoid naming conflicts when loading with `tf.keras.models.load_model`. If renaming is not possible, pass the object in the `custom_objects` parameter of the load function.\n"
     ]
    },
    {
     "name": "stdout",
     "output_type": "stream",
     "text": [
      " > 5.262\n",
      "5.262449973120076\n",
      "INFO:tensorflow:Assets written to: D:\\HPE_CTY\\pre_trained_models\\LSTM\\assets\n"
     ]
    },
    {
     "name": "stderr",
     "output_type": "stream",
     "text": [
      "INFO:tensorflow:Assets written to: D:\\HPE_CTY\\pre_trained_models\\LSTM\\assets\n",
      "WARNING:absl:<keras.layers.recurrent.LSTMCell object at 0x000001D47CB5B3D0> has the same name 'LSTMCell' as a built-in Keras object. Consider renaming <class 'keras.layers.recurrent.LSTMCell'> to avoid naming conflicts when loading with `tf.keras.models.load_model`. If renaming is not possible, pass the object in the `custom_objects` parameter of the load function.\n"
     ]
    },
    {
     "name": "stdout",
     "output_type": "stream",
     "text": [
      " > 2.338\n",
      "2.3381543468567307\n",
      "INFO:tensorflow:Assets written to: D:\\HPE_CTY\\pre_trained_models\\LSTM\\assets\n"
     ]
    },
    {
     "name": "stderr",
     "output_type": "stream",
     "text": [
      "INFO:tensorflow:Assets written to: D:\\HPE_CTY\\pre_trained_models\\LSTM\\assets\n",
      "WARNING:absl:<keras.layers.recurrent.LSTMCell object at 0x000001D47DC511F0> has the same name 'LSTMCell' as a built-in Keras object. Consider renaming <class 'keras.layers.recurrent.LSTMCell'> to avoid naming conflicts when loading with `tf.keras.models.load_model`. If renaming is not possible, pass the object in the `custom_objects` parameter of the load function.\n"
     ]
    },
    {
     "name": "stdout",
     "output_type": "stream",
     "text": [
      " > 8.170\n",
      "8.169992701119979\n",
      "INFO:tensorflow:Assets written to: D:\\HPE_CTY\\pre_trained_models\\LSTM\\assets\n"
     ]
    },
    {
     "name": "stderr",
     "output_type": "stream",
     "text": [
      "INFO:tensorflow:Assets written to: D:\\HPE_CTY\\pre_trained_models\\LSTM\\assets\n",
      "WARNING:absl:<keras.layers.recurrent.LSTMCell object at 0x000001D40B6937C0> has the same name 'LSTMCell' as a built-in Keras object. Consider renaming <class 'keras.layers.recurrent.LSTMCell'> to avoid naming conflicts when loading with `tf.keras.models.load_model`. If renaming is not possible, pass the object in the `custom_objects` parameter of the load function.\n"
     ]
    },
    {
     "name": "stdout",
     "output_type": "stream",
     "text": [
      " > 63.681\n",
      "63.68073905359688\n",
      "INFO:tensorflow:Assets written to: D:\\HPE_CTY\\pre_trained_models\\LSTM\\assets\n"
     ]
    },
    {
     "name": "stderr",
     "output_type": "stream",
     "text": [
      "INFO:tensorflow:Assets written to: D:\\HPE_CTY\\pre_trained_models\\LSTM\\assets\n",
      "WARNING:absl:<keras.layers.recurrent.LSTMCell object at 0x000001D408FF9550> has the same name 'LSTMCell' as a built-in Keras object. Consider renaming <class 'keras.layers.recurrent.LSTMCell'> to avoid naming conflicts when loading with `tf.keras.models.load_model`. If renaming is not possible, pass the object in the `custom_objects` parameter of the load function.\n"
     ]
    },
    {
     "name": "stdout",
     "output_type": "stream",
     "text": [
      " > 1.880\n",
      "1.8801699172503727\n",
      "INFO:tensorflow:Assets written to: D:\\HPE_CTY\\pre_trained_models\\LSTM\\assets\n"
     ]
    },
    {
     "name": "stderr",
     "output_type": "stream",
     "text": [
      "INFO:tensorflow:Assets written to: D:\\HPE_CTY\\pre_trained_models\\LSTM\\assets\n",
      "WARNING:absl:<keras.layers.recurrent.LSTMCell object at 0x000001D411003100> has the same name 'LSTMCell' as a built-in Keras object. Consider renaming <class 'keras.layers.recurrent.LSTMCell'> to avoid naming conflicts when loading with `tf.keras.models.load_model`. If renaming is not possible, pass the object in the `custom_objects` parameter of the load function.\n"
     ]
    },
    {
     "name": "stdout",
     "output_type": "stream",
     "text": [
      " > 54.279\n",
      "54.2786686549132\n",
      "INFO:tensorflow:Assets written to: D:\\HPE_CTY\\pre_trained_models\\LSTM\\assets\n"
     ]
    },
    {
     "name": "stderr",
     "output_type": "stream",
     "text": [
      "INFO:tensorflow:Assets written to: D:\\HPE_CTY\\pre_trained_models\\LSTM\\assets\n",
      "WARNING:absl:<keras.layers.recurrent.LSTMCell object at 0x000001D40EC50A30> has the same name 'LSTMCell' as a built-in Keras object. Consider renaming <class 'keras.layers.recurrent.LSTMCell'> to avoid naming conflicts when loading with `tf.keras.models.load_model`. If renaming is not possible, pass the object in the `custom_objects` parameter of the load function.\n"
     ]
    },
    {
     "name": "stdout",
     "output_type": "stream",
     "text": [
      " > 7.543\n",
      "7.543421490223723\n",
      "INFO:tensorflow:Assets written to: D:\\HPE_CTY\\pre_trained_models\\LSTM\\assets\n"
     ]
    },
    {
     "name": "stderr",
     "output_type": "stream",
     "text": [
      "INFO:tensorflow:Assets written to: D:\\HPE_CTY\\pre_trained_models\\LSTM\\assets\n",
      "WARNING:absl:<keras.layers.recurrent.LSTMCell object at 0x000001D47EFD18B0> has the same name 'LSTMCell' as a built-in Keras object. Consider renaming <class 'keras.layers.recurrent.LSTMCell'> to avoid naming conflicts when loading with `tf.keras.models.load_model`. If renaming is not possible, pass the object in the `custom_objects` parameter of the load function.\n"
     ]
    },
    {
     "name": "stdout",
     "output_type": "stream",
     "text": [
      " > 25.356\n",
      "25.35555044011341\n",
      "INFO:tensorflow:Assets written to: D:\\HPE_CTY\\pre_trained_models\\LSTM\\assets\n"
     ]
    },
    {
     "name": "stderr",
     "output_type": "stream",
     "text": [
      "INFO:tensorflow:Assets written to: D:\\HPE_CTY\\pre_trained_models\\LSTM\\assets\n",
      "WARNING:absl:<keras.layers.recurrent.LSTMCell object at 0x000001D47DEC57F0> has the same name 'LSTMCell' as a built-in Keras object. Consider renaming <class 'keras.layers.recurrent.LSTMCell'> to avoid naming conflicts when loading with `tf.keras.models.load_model`. If renaming is not possible, pass the object in the `custom_objects` parameter of the load function.\n"
     ]
    },
    {
     "name": "stdout",
     "output_type": "stream",
     "text": [
      " > 8.418\n",
      "8.418496855626637\n",
      "INFO:tensorflow:Assets written to: D:\\HPE_CTY\\pre_trained_models\\LSTM\\assets\n"
     ]
    },
    {
     "name": "stderr",
     "output_type": "stream",
     "text": [
      "INFO:tensorflow:Assets written to: D:\\HPE_CTY\\pre_trained_models\\LSTM\\assets\n",
      "WARNING:absl:<keras.layers.recurrent.LSTMCell object at 0x000001D47F40E2B0> has the same name 'LSTMCell' as a built-in Keras object. Consider renaming <class 'keras.layers.recurrent.LSTMCell'> to avoid naming conflicts when loading with `tf.keras.models.load_model`. If renaming is not possible, pass the object in the `custom_objects` parameter of the load function.\n"
     ]
    },
    {
     "name": "stdout",
     "output_type": "stream",
     "text": [
      " > 3.923\n",
      "3.923230485411834\n",
      "INFO:tensorflow:Assets written to: D:\\HPE_CTY\\pre_trained_models\\LSTM\\assets\n"
     ]
    },
    {
     "name": "stderr",
     "output_type": "stream",
     "text": [
      "INFO:tensorflow:Assets written to: D:\\HPE_CTY\\pre_trained_models\\LSTM\\assets\n",
      "WARNING:absl:<keras.layers.recurrent.LSTMCell object at 0x000001D47F549430> has the same name 'LSTMCell' as a built-in Keras object. Consider renaming <class 'keras.layers.recurrent.LSTMCell'> to avoid naming conflicts when loading with `tf.keras.models.load_model`. If renaming is not possible, pass the object in the `custom_objects` parameter of the load function.\n"
     ]
    },
    {
     "name": "stdout",
     "output_type": "stream",
     "text": [
      " > 1.783\n",
      "1.783172419454954\n",
      "INFO:tensorflow:Assets written to: D:\\HPE_CTY\\pre_trained_models\\LSTM\\assets\n"
     ]
    },
    {
     "name": "stderr",
     "output_type": "stream",
     "text": [
      "INFO:tensorflow:Assets written to: D:\\HPE_CTY\\pre_trained_models\\LSTM\\assets\n",
      "WARNING:absl:<keras.layers.recurrent.LSTMCell object at 0x000001D412113310> has the same name 'LSTMCell' as a built-in Keras object. Consider renaming <class 'keras.layers.recurrent.LSTMCell'> to avoid naming conflicts when loading with `tf.keras.models.load_model`. If renaming is not possible, pass the object in the `custom_objects` parameter of the load function.\n"
     ]
    },
    {
     "name": "stdout",
     "output_type": "stream",
     "text": [
      " > 35.087\n",
      "35.0870482766479\n",
      "INFO:tensorflow:Assets written to: D:\\HPE_CTY\\pre_trained_models\\LSTM\\assets\n"
     ]
    },
    {
     "name": "stderr",
     "output_type": "stream",
     "text": [
      "INFO:tensorflow:Assets written to: D:\\HPE_CTY\\pre_trained_models\\LSTM\\assets\n",
      "WARNING:absl:<keras.layers.recurrent.LSTMCell object at 0x000001D47F1AA730> has the same name 'LSTMCell' as a built-in Keras object. Consider renaming <class 'keras.layers.recurrent.LSTMCell'> to avoid naming conflicts when loading with `tf.keras.models.load_model`. If renaming is not possible, pass the object in the `custom_objects` parameter of the load function.\n"
     ]
    },
    {
     "name": "stdout",
     "output_type": "stream",
     "text": [
      " > 4.829\n",
      "4.828825869477729\n",
      "INFO:tensorflow:Assets written to: D:\\HPE_CTY\\pre_trained_models\\LSTM\\assets\n"
     ]
    },
    {
     "name": "stderr",
     "output_type": "stream",
     "text": [
      "INFO:tensorflow:Assets written to: D:\\HPE_CTY\\pre_trained_models\\LSTM\\assets\n",
      "WARNING:absl:<keras.layers.recurrent.LSTMCell object at 0x000001D40ED11BB0> has the same name 'LSTMCell' as a built-in Keras object. Consider renaming <class 'keras.layers.recurrent.LSTMCell'> to avoid naming conflicts when loading with `tf.keras.models.load_model`. If renaming is not possible, pass the object in the `custom_objects` parameter of the load function.\n"
     ]
    },
    {
     "name": "stdout",
     "output_type": "stream",
     "text": [
      " > 1.999\n",
      "1.9991098922218948\n",
      "INFO:tensorflow:Assets written to: D:\\HPE_CTY\\pre_trained_models\\LSTM\\assets\n"
     ]
    },
    {
     "name": "stderr",
     "output_type": "stream",
     "text": [
      "INFO:tensorflow:Assets written to: D:\\HPE_CTY\\pre_trained_models\\LSTM\\assets\n",
      "WARNING:absl:<keras.layers.recurrent.LSTMCell object at 0x000001D47F1AA040> has the same name 'LSTMCell' as a built-in Keras object. Consider renaming <class 'keras.layers.recurrent.LSTMCell'> to avoid naming conflicts when loading with `tf.keras.models.load_model`. If renaming is not possible, pass the object in the `custom_objects` parameter of the load function.\n"
     ]
    },
    {
     "name": "stdout",
     "output_type": "stream",
     "text": [
      " > 5.855\n",
      "5.855451794084088\n",
      "INFO:tensorflow:Assets written to: D:\\HPE_CTY\\pre_trained_models\\LSTM\\assets\n"
     ]
    },
    {
     "name": "stderr",
     "output_type": "stream",
     "text": [
      "INFO:tensorflow:Assets written to: D:\\HPE_CTY\\pre_trained_models\\LSTM\\assets\n",
      "WARNING:absl:<keras.layers.recurrent.LSTMCell object at 0x000001D40B741E20> has the same name 'LSTMCell' as a built-in Keras object. Consider renaming <class 'keras.layers.recurrent.LSTMCell'> to avoid naming conflicts when loading with `tf.keras.models.load_model`. If renaming is not possible, pass the object in the `custom_objects` parameter of the load function.\n"
     ]
    },
    {
     "name": "stdout",
     "output_type": "stream",
     "text": [
      " > 4.651\n",
      "4.650788583145853\n",
      "MLP: 11.810096240669532 RMSE (+/- 16.195930041823715)\n"
     ]
    },
    {
     "data": {
      "image/png": "[encoded data removed]",
      "text/plain": [
       "<Figure size 432x288 with 1 Axes>"
      ]
     },
     "metadata": {
      "needs_background": "light"
     },
     "output_type": "display_data"
    }
   ],
   "source": [
    "config = [7, 32, 50, 50]\n",
    "\n",
    "train_model_lstm(dir_path, 90, config)"
   ]
  },
  {
   "cell_type": "code",
   "execution_count": 4,
   "metadata": {},
   "outputs": [],
   "source": [
    "model = load_model(os.path.join(os.getcwd(), \"pre_trained_models\", \"LSTM\"))"
   ]
  },
  {
   "cell_type": "markdown",
   "metadata": {},
   "source": [
    "Now that we have trained out LSTM model, let us test it's performance on a newly generated dataset."
   ]
  },
  {
   "cell_type": "code",
   "execution_count": null,
   "metadata": {},
   "outputs": [],
   "source": [
    "# generating dataset\n",
    "test_user, test_user_type = generate_data_values(70, 75, 365) \n",
    "generate_dataset(user2, date, user_type_2, \"test_cust02.csv\", dir_path) # increase counter in file name by 1 before running\n",
    "\n",
    "# loading dataset\n",
    "df = pd.read_csv(r\"D:\\HPE_CTY\\data\\test_cust02.csv\", header=0, parse_dates=[0], index_col=0)\n",
    "df.index = df.index.to_period('D')\n",
    "series = df.daily_usage\n",
    "X = series.values\n",
    "\n",
    "# splitting into test-train splits \n",
    "size = int(len(X) * 0.66)\n",
    "train_data, test_data = X[0:size], X[size:len(X)]\n",
    "history = [x for x in train_data]\n",
    "predictions = list()\n",
    "# walk-forward validation\n",
    "for t in range(len(test_data)):\n",
    "    fitted_model = fitted_model.apply(history)\n",
    "    output = fitted_model.forecast()\n",
    "    yhat = output[0]\n",
    "    predictions.append(yhat)\n",
    "    obs = test_data[t]\n",
    "    history.append(obs)\n",
    "    print('predicted=%f, expected=%f' % (yhat, obs))\n",
    "# evaluate forecasts\n",
    "rmse = sqrt(mean_squared_error(test_data, predictions))\n",
    "print('Test RMSE: %.3f' % rmse)\n",
    "# plot forecasts against actual outcomes\n",
    "plt.plot(test_data)\n",
    "plt.plot(predictions, color='red')\n",
    "plt.show()"
   ]
  },
  {
   "cell_type": "markdown",
   "metadata": {},
   "source": [
    "#### Observations\n",
    "---\n",
    "\n",
    "The following are the observations from the RMSE scores post training and testing on different datasets, each denoting a different user type:\n",
    " - The average RMSE is around 11.79.\n",
    " - The highest RMSE is around 63.68, which still denotes that even for the worse test results, the information loss isn't a lot in the LSTM model. \n",
    " - In fact, both the average and highest RMSE scores observed in the case of LSTM model are lower as compared to that of the MLP model.\n",
    " - The model takes in historic data for 7 days to generate predicted data consumption for the 8th day.\n",
    " - The performance of the model can be further improved with architectural changes and hyperparameter optimization."
   ]
  },
  {
   "cell_type": "markdown",
   "metadata": {},
   "source": [
    "### 4. Auto-ARIMA Model\n",
    "---\n",
    "\n",
    "In this section, we are going to train an Auto-ARIMA model. This also belongs to the category of ARIMA model. For this particular model architecture, we will be training a non-seasonal model. \n",
    "\n",
    "Let us begin by importing the necessary modules."
   ]
  },
  {
   "cell_type": "code",
   "execution_count": 7,
   "metadata": {},
   "outputs": [],
   "source": [
    "from pmdarima.arima import auto_arima"
   ]
  },
  {
   "cell_type": "markdown",
   "metadata": {},
   "source": [
    "Let us now import the dataset that we are going to train the model on for testing purposes. One thing that is to be noted here is that ARIMA classes of models take a dataset to train on and then uses the ingested data to generate predictions. Hence, this category of models is not ideal for a production environment."
   ]
  },
  {
   "cell_type": "code",
   "execution_count": 12,
   "metadata": {},
   "outputs": [],
   "source": [
    "def prepare_arima_data(path, n_test):\n",
    "    \"\"\"Function to prepare data for ARIMA training and testing.\n",
    "    Args-\n",
    "        path- String denoting path to the csv file.\n",
    "        n_test- Integer denoting the number of test instances.\n",
    "    Returns-\n",
    "        train_data- pandas.Series denoting training data\n",
    "        test_data- pandas.Series denoting testing data\n",
    "    \"\"\"\n",
    "    df = pd.read_csv(path, header=0, parse_dates=[0], index_col=0)\n",
    "    train_data, test_data = train_test_split(df, n_test)\n",
    "    \n",
    "    return train_data.daily_usage, test_data.daily_usage\n",
    "\n",
    "path = r\"D:\\HPE_CTY\\data\\cust01.csv\"\n",
    "\n",
    "train_data, test_data = prepare_arima_data(path=path, n_test=65)"
   ]
  },
  {
   "cell_type": "markdown",
   "metadata": {},
   "source": [
    "We will now train the model and generate a model summary to see how our model is performing."
   ]
  },
  {
   "cell_type": "code",
   "execution_count": 23,
   "metadata": {},
   "outputs": [
    {
     "data": {
      "text/html": [
       "<table class=\"simpletable\">\n",
       "<caption>SARIMAX Results</caption>\n",
       "<tr>\n",
       "  <th>Dep. Variable:</th>           <td>y</td>        <th>  No. Observations:  </th>    <td>300</td>   \n",
       "</tr>\n",
       "<tr>\n",
       "  <th>Model:</th>           <td>SARIMAX(1, 0, 0)</td> <th>  Log Likelihood     </th> <td>-1321.662</td>\n",
       "</tr>\n",
       "<tr>\n",
       "  <th>Date:</th>            <td>Tue, 12 Jul 2022</td> <th>  AIC                </th> <td>2649.324</td> \n",
       "</tr>\n",
       "<tr>\n",
       "  <th>Time:</th>                <td>15:13:35</td>     <th>  BIC                </th> <td>2660.435</td> \n",
       "</tr>\n",
       "<tr>\n",
       "  <th>Sample:</th>                  <td>0</td>        <th>  HQIC               </th> <td>2653.770</td> \n",
       "</tr>\n",
       "<tr>\n",
       "  <th></th>                      <td> - 300</td>      <th>                     </th>     <td> </td>    \n",
       "</tr>\n",
       "<tr>\n",
       "  <th>Covariance Type:</th>        <td>opg</td>       <th>                     </th>     <td> </td>    \n",
       "</tr>\n",
       "</table>\n",
       "<table class=\"simpletable\">\n",
       "<tr>\n",
       "      <td></td>         <th>coef</th>     <th>std err</th>      <th>z</th>      <th>P>|z|</th>  <th>[0.025</th>    <th>0.975]</th>  \n",
       "</tr>\n",
       "<tr>\n",
       "  <th>intercept</th> <td>   64.2997</td> <td>    5.219</td> <td>   12.321</td> <td> 0.000</td> <td>   54.071</td> <td>   74.528</td>\n",
       "</tr>\n",
       "<tr>\n",
       "  <th>ar.L1</th>     <td>    0.4507</td> <td>    0.041</td> <td>   10.875</td> <td> 0.000</td> <td>    0.369</td> <td>    0.532</td>\n",
       "</tr>\n",
       "<tr>\n",
       "  <th>sigma2</th>    <td>  393.1631</td> <td>   19.210</td> <td>   20.467</td> <td> 0.000</td> <td>  355.513</td> <td>  430.813</td>\n",
       "</tr>\n",
       "</table>\n",
       "<table class=\"simpletable\">\n",
       "<tr>\n",
       "  <th>Ljung-Box (L1) (Q):</th>     <td>0.12</td> <th>  Jarque-Bera (JB):  </th> <td>239.83</td>\n",
       "</tr>\n",
       "<tr>\n",
       "  <th>Prob(Q):</th>                <td>0.73</td> <th>  Prob(JB):          </th>  <td>0.00</td> \n",
       "</tr>\n",
       "<tr>\n",
       "  <th>Heteroskedasticity (H):</th> <td>0.63</td> <th>  Skew:              </th>  <td>0.10</td> \n",
       "</tr>\n",
       "<tr>\n",
       "  <th>Prob(H) (two-sided):</th>    <td>0.02</td> <th>  Kurtosis:          </th>  <td>7.38</td> \n",
       "</tr>\n",
       "</table><br/><br/>Warnings:<br/>[1] Covariance matrix calculated using the outer product of gradients (complex-step)."
      ],
      "text/plain": [
       "<class 'statsmodels.iolib.summary.Summary'>\n",
       "\"\"\"\n",
       "                               SARIMAX Results                                \n",
       "==============================================================================\n",
       "Dep. Variable:                      y   No. Observations:                  300\n",
       "Model:               SARIMAX(1, 0, 0)   Log Likelihood               -1321.662\n",
       "Date:                Tue, 12 Jul 2022   AIC                           2649.324\n",
       "Time:                        15:13:35   BIC                           2660.435\n",
       "Sample:                             0   HQIC                          2653.770\n",
       "                                - 300                                         \n",
       "Covariance Type:                  opg                                         \n",
       "==============================================================================\n",
       "                 coef    std err          z      P>|z|      [0.025      0.975]\n",
       "------------------------------------------------------------------------------\n",
       "intercept     64.2997      5.219     12.321      0.000      54.071      74.528\n",
       "ar.L1          0.4507      0.041     10.875      0.000       0.369       0.532\n",
       "sigma2       393.1631     19.210     20.467      0.000     355.513     430.813\n",
       "===================================================================================\n",
       "Ljung-Box (L1) (Q):                   0.12   Jarque-Bera (JB):               239.83\n",
       "Prob(Q):                              0.73   Prob(JB):                         0.00\n",
       "Heteroskedasticity (H):               0.63   Skew:                             0.10\n",
       "Prob(H) (two-sided):                  0.02   Kurtosis:                         7.38\n",
       "===================================================================================\n",
       "\n",
       "Warnings:\n",
       "[1] Covariance matrix calculated using the outer product of gradients (complex-step).\n",
       "\"\"\""
      ]
     },
     "execution_count": 23,
     "metadata": {},
     "output_type": "execute_result"
    }
   ],
   "source": [
    "autoarima_model = auto_arima(train_data, seasonal=True)\n",
    "autoarima_model.summary()"
   ]
  },
  {
   "cell_type": "markdown",
   "metadata": {},
   "source": [
    "Now, let us compare the performance of the model."
   ]
  },
  {
   "cell_type": "code",
   "execution_count": 95,
   "metadata": {},
   "outputs": [],
   "source": [
    "dir_path = r\"D:\\HPE_CTY\\data\"\n",
    "test_user, test_user_type = generate_data_values(70, 75, 730) \n",
    "date = generate_date(\"2021-01-01\", 730)\n",
    "generate_dataset(test_user, date, test_user_type, \"test_cust03.csv\", dir_path) # increase counter in file name by 1 before running"
   ]
  },
  {
   "cell_type": "code",
   "execution_count": 96,
   "metadata": {},
   "outputs": [],
   "source": [
    "df = pd.read_csv(r\"D:\\HPE_CTY\\data\\test_cust03.csv\")\n",
    "data_list = df.daily_usage\n",
    "autoarima_model = auto_arima(data_list[:700], seasonal=True)"
   ]
  },
  {
   "cell_type": "code",
   "execution_count": 99,
   "metadata": {},
   "outputs": [],
   "source": [
    "predicted_data = autoarima_model.predict(n_periods=30)\n",
    "actual_data = data_list[700:]"
   ]
  },
  {
   "cell_type": "code",
   "execution_count": 102,
   "metadata": {},
   "outputs": [
    {
     "name": "stdout",
     "output_type": "stream",
     "text": [
      "Test RMSE: 1.549\n"
     ]
    }
   ],
   "source": [
    "rmse = sqrt(mean_squared_error(actual_data, predicted_data))\n",
    "print('Test RMSE: %.3f' % rmse)"
   ]
  },
  {
   "cell_type": "markdown",
   "metadata": {},
   "source": [
    "#### Observations\n",
    "---\n",
    "\n",
    "The following are the observations from the RMSE scores post training and testing on different datasets, each denoting a different user type:\n",
    " - The average RMSE is around 1.549. \n",
    " - The test RMSE of auto-ARIMA model is the lowest as compared to all other models.\n",
    " - Since we have to re-train a new model for every prediction, the model takes around 1-2 years of historic data to first train and then      generate predictions.\n"
   ]
  }
 ],
 "metadata": {
  "interpreter": {
   "hash": "9d9c7a14da4c48db4bb1e3be36821118fbe0a60ffbce41ef95d7d3cc99dac0ab"
  },
  "kernelspec": {
   "display_name": "Python 3.9.7 ('base')",
   "language": "python",
   "name": "python3"
  },
  "language_info": {
   "codemirror_mode": {
    "name": "ipython",
    "version": 3
   },
   "file_extension": ".py",
   "mimetype": "text/x-python",
   "name": "python",
   "nbconvert_exporter": "python",
   "pygments_lexer": "ipython3",
   "version": "3.9.7"
  },
  "orig_nbformat": 4
 },
 "nbformat": 4,
 "nbformat_minor": 2
}
